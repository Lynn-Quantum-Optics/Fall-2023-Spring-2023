{
 "cells": [
  {
   "cell_type": "code",
   "execution_count": 1,
   "id": "a72c85f9-dbfb-49f6-8cca-fc37a3d8952f",
   "metadata": {
    "ExecuteTime": {
     "end_time": "2024-04-27T23:17:02.105321300Z",
     "start_time": "2024-04-27T23:17:01.784299800Z"
    }
   },
   "outputs": [],
   "source": [
    "# Here I was just playing around with a very basic parametrization to see what would happen. Turns out SymPy is kinda garbage.\n",
    "# (and also this is definitely not a useful parametrization. You're much better off with the Pauli one (see the Mathematica file)\n",
    "\n",
    "from sympy import *\n",
    "from IPython import display\n",
    "i = I"
   ]
  },
  {
   "cell_type": "code",
   "execution_count": 2,
   "id": "ba8c7294-97f9-4c58-a93b-3739a5102a5f",
   "metadata": {
    "ExecuteTime": {
     "end_time": "2024-04-27T23:17:03.010834Z",
     "start_time": "2024-04-27T23:17:03.002835300Z"
    }
   },
   "outputs": [],
   "source": [
    "y1, y2, y3, y4, y5, y6, y7, y8, y9, y10, y11, y12, y13, y14, y15 = symbols(\"y1 y2 y3 y4 y5 y6 y7 y8 y9 y10 y11 y12 y13 y14 y15\", real=True)"
   ]
  },
  {
   "cell_type": "code",
   "execution_count": 3,
   "id": "614a2c7f-e35a-4e0a-8d91-fc6ec1dd304e",
   "metadata": {
    "ExecuteTime": {
     "end_time": "2024-04-27T23:17:04.110615600Z",
     "start_time": "2024-04-27T23:17:04.071590900Z"
    }
   },
   "outputs": [],
   "source": [
    "y = Matrix([[y1, y4+i*y5,y6+i*y7,y8+i*y9],[y4-i*y5,y2,y10+i*y11,y12+i*y13],[y6-i*y7,y10-i*y11,y3,y14+i*y15],[y8-i*y9,y12-i*y13,y14-i*y15,1-y1-y2-y3]])"
   ]
  },
  {
   "cell_type": "code",
   "execution_count": 4,
   "id": "80c88a76-936b-46f1-aba5-2bb48d305065",
   "metadata": {
    "ExecuteTime": {
     "end_time": "2024-04-27T23:17:05.460356100Z",
     "start_time": "2024-04-27T23:17:05.430351100Z"
    }
   },
   "outputs": [
    {
     "data": {
      "text/plain": "Matrix([\n[       y1,   y4 + I*y5,   y6 + I*y7,         y8 + I*y9],\n[y4 - I*y5,          y2, y10 + I*y11,       y12 + I*y13],\n[y6 - I*y7, y10 - I*y11,          y3,       y14 + I*y15],\n[y8 - I*y9, y12 - I*y13, y14 - I*y15, -y1 - y2 - y3 + 1]])",
      "text/latex": "$\\displaystyle \\left[\\begin{matrix}y_{1} & y_{4} + i y_{5} & y_{6} + i y_{7} & y_{8} + i y_{9}\\\\y_{4} - i y_{5} & y_{2} & y_{10} + i y_{11} & y_{12} + i y_{13}\\\\y_{6} - i y_{7} & y_{10} - i y_{11} & y_{3} & y_{14} + i y_{15}\\\\y_{8} - i y_{9} & y_{12} - i y_{13} & y_{14} - i y_{15} & - y_{1} - y_{2} - y_{3} + 1\\end{matrix}\\right]$"
     },
     "execution_count": 4,
     "metadata": {},
     "output_type": "execute_result"
    }
   ],
   "source": [
    "y"
   ]
  },
  {
   "cell_type": "code",
   "execution_count": 7,
   "id": "0abfb513-42e0-41d7-ae2a-e67bfd722a8b",
   "metadata": {
    "ExecuteTime": {
     "end_time": "2024-04-27T23:18:13.366438900Z",
     "start_time": "2024-04-27T23:18:12.732490300Z"
    }
   },
   "outputs": [],
   "source": [
    "y_simp = simplify(y*y)"
   ]
  },
  {
   "cell_type": "code",
   "execution_count": 8,
   "id": "ae5af471-da70-44a2-bd5f-fca7a3456a2a",
   "metadata": {
    "ExecuteTime": {
     "end_time": "2024-04-27T23:18:30.324604800Z",
     "start_time": "2024-04-27T23:18:30.290607700Z"
    }
   },
   "outputs": [
    {
     "data": {
      "text/plain": "y1**2 + 2*y10**2 + 2*y11**2 + 2*y12**2 + 2*y13**2 + 2*y14**2 + 2*y15**2 + y2**2 + y3**2 + 2*y4**2 + 2*y5**2 + 2*y6**2 + 2*y7**2 + 2*y8**2 + 2*y9**2 + (y1 + y2 + y3 - 1)**2",
      "text/latex": "$\\displaystyle y_{1}^{2} + 2 y_{10}^{2} + 2 y_{11}^{2} + 2 y_{12}^{2} + 2 y_{13}^{2} + 2 y_{14}^{2} + 2 y_{15}^{2} + y_{2}^{2} + y_{3}^{2} + 2 y_{4}^{2} + 2 y_{5}^{2} + 2 y_{6}^{2} + 2 y_{7}^{2} + 2 y_{8}^{2} + 2 y_{9}^{2} + \\left(y_{1} + y_{2} + y_{3} - 1\\right)^{2}$"
     },
     "execution_count": 8,
     "metadata": {},
     "output_type": "execute_result"
    }
   ],
   "source": [
    "trace(y_simp)"
   ]
  },
  {
   "cell_type": "code",
   "execution_count": null,
   "id": "105644c8-7271-4f8c-8e86-38fa93e783b4",
   "metadata": {},
   "outputs": [],
   "source": []
  }
 ],
 "metadata": {
  "kernelspec": {
   "display_name": "Python 3 (ipykernel)",
   "language": "python",
   "name": "python3"
  },
  "language_info": {
   "codemirror_mode": {
    "name": "ipython",
    "version": 3
   },
   "file_extension": ".py",
   "mimetype": "text/x-python",
   "name": "python",
   "nbconvert_exporter": "python",
   "pygments_lexer": "ipython3",
   "version": "3.8.10"
  }
 },
 "nbformat": 4,
 "nbformat_minor": 5
}
