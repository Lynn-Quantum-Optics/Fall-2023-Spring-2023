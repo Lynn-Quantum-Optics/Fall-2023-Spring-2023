{
 "cells": [
  {
   "cell_type": "code",
   "execution_count": 1,
   "id": "initial_id",
   "metadata": {
    "collapsed": true,
    "ExecuteTime": {
     "end_time": "2024-04-17T06:26:49.875975600Z",
     "start_time": "2024-04-17T06:26:49.193918500Z"
    }
   },
   "outputs": [],
   "source": [
    "# This document can generate the eigenvectors |e_i> from randomly sampled arguments.\n",
    "# It was primarily used for testing distributions of theta21 in an attempt to get |e1> to be distributed like |e0>.\n",
    "# I no longer expect that to be the case, but I did spend a fair amount of time here.\n",
    "\n",
    "import numpy as np\n",
    "import matplotlib.pyplot as plt\n",
    "from generate_states import make_cs, make_s_mat, Params, make_rho_prime_mat"
   ]
  },
  {
   "cell_type": "code",
   "outputs": [],
   "source": [
    "def nth_root(x, n):\n",
    "    return np.sign(x) * np.abs(x)**(1/n)"
   ],
   "metadata": {
    "collapsed": false,
    "ExecuteTime": {
     "end_time": "2024-04-17T06:26:50.109977400Z",
     "start_time": "2024-04-17T06:26:50.092976600Z"
    }
   },
   "id": "e1d498214c2d09fd",
   "execution_count": 2
  },
  {
   "cell_type": "code",
   "outputs": [],
   "source": [
    "def sample_params(samps):\n",
    "    unif = np.random.uniform\n",
    "    \n",
    "    _theta = np.arccos(unif(-1, 1, samps))\n",
    "    _psi = unif(0, 2 * np.pi, samps)\n",
    "    _theta_prime = np.arccos(unif(-1, 1, samps))\n",
    "    _psi_prime = unif(0, 2 * np.pi, samps)\n",
    "    _r = np.cbrt(unif(0, 1, samps))\n",
    "    _zeta = unif(0, 2 * np.pi, samps)\n",
    "\n",
    "    # what follows is purely a guess\n",
    "    mu = np.random.dirichlet(np.ones(4), samps)  # sample mu's uniformly from the random simplex\n",
    "    #_theta32 = np.arccos(1-unif(0, 1, samps)**(0.58333333333))  # sample thetas and psis as for pure states\n",
    "        # tried sampling as arccos(1 - different roots of u), couldn't get right shape. got close with power ~ 5/8\n",
    "    _theta32 = np.arccos(np.cbrt(unif(0,1,samps)))\n",
    "        # looking at form of e1, theta32 should be chosen just like eta (where r=cos^2 eta)?\n",
    "            # side note: r = cos(eta) is a better way of looking at it!\n",
    "    _psi32 = unif(0, 2 * np.pi, samps)\n",
    "    # _theta21 = np.arcsin(unif(0, 1, samps)**(3))\n",
    "    # _theta21 = np.arccos(unif(0, 1, samps)**(1/32)) # higher powers give better results.....\n",
    "    #_theta21 = np.arcsin(unif(-1,1,samps)**9)\n",
    "        #\n",
    "    # u_theta21 = np.random.uniform(0,1,samps)\n",
    "    # _theta21 = []\n",
    "    # for u in u_theta21:\n",
    "        # root = np.sqrt([x for x in np.roots([9, -15, -5, 15, 0, 4 * u**2 - 4])\n",
    "        #         if np.abs(np.imag(x)) < 1e-5 and x >= 0 and x <= 1])\n",
    "            # from cos(x) sin^2(2x)\n",
    "        # root = [x for x in np.roots([60, 0, -84, 0, 35, 0, 0, 11 * u - 11]) \n",
    "        #         if np.abs(np.imag(x)) < 1e-5 and x >= 0 and x <= 1]\n",
    "            # from cos(x) cos^2(2x) sin(2x)\n",
    "        # root = [x for x in np.roots([12, 0, -10, 0, 0, np.sqrt(2) * u + 2 * u - 2])\n",
    "        #         if np.abs(np.imag(x)) < 1e-5 and x >= 0 and x <= 1] \n",
    "            # from cos(x) sin(4x) -- the best so far!!\n",
    "        # root = np.sqrt([x for x in np.roots([7200, -20160, 18312, -5880, 1400, -840, 0, 121 * u**2 - 32]) \n",
    "        #                   if np.abs(np.imag(x)) < 1e-5 and x >= 0 and x <= 1])\n",
    "            # from cos(x) sin(2x) sin(4x)\n",
    "        # root = np.sqrt([x for x in np.roots([1225, -4725, 6210, -2730, 189, -945, 840, 0, 0,\n",
    "        #                                      64 * (u**2 - 1)]) if np.abs(np.imag(x)) < 1e-5\n",
    "        #                                                             and x >= 0 and x <= 1])\n",
    "            # from cos^5(x)sin^4(x)\n",
    "        # root = np.sqrt([x for x in np.roots([6, -15, 10, 0, 0, u - 1]) if np.abs(np.imag(x)) < 1e-5\n",
    "        #                     and x >= 0 and x <= 1])\n",
    "            # from cos^5(x)sin^3(x)\n",
    "        # print(np.arccos(root[0]) / np.pi)\n",
    "        # _theta21.append(np.arccos(root[-1]))\n",
    "    # _theta21 = np.array(_theta21)\n",
    "    # print(_theta21.shape)\n",
    "    _theta21 = np.arccos(unif(-1, 1, samps))\n",
    "    _psi21 = unif(0, 2*np.pi, samps)\n",
    "    _theta0 = np.arccos(unif(-1, 1, samps))\n",
    "    _psi0 = unif(0, 2 * np.pi, samps)\n",
    "\n",
    "    return Params(mu0=mu[:, 0], mu1=mu[:, 1], mu2=mu[:, 2], r=_r, zeta=_zeta, theta=_theta, psi=_psi,\n",
    "                  theta_prime=_theta_prime, psi_prime=_psi_prime, theta32=_theta32, psi32=_psi32, theta21=_theta21,\n",
    "                  psi21=_psi21, theta0=_theta0, psi0=_psi0, )"
   ],
   "metadata": {
    "collapsed": false,
    "ExecuteTime": {
     "end_time": "2024-04-17T06:29:00.869148700Z",
     "start_time": "2024-04-17T06:29:00.827145800Z"
    }
   },
   "id": "cd7ede8089362790",
   "execution_count": 6
  },
  {
   "cell_type": "code",
   "outputs": [
    {
     "data": {
      "text/plain": "<Figure size 640x480 with 1 Axes>",
      "image/png": "[encoded data removed]"
     },
     "metadata": {},
     "output_type": "display_data"
    }
   ],
   "source": [
    "u = np.random.uniform(0,1,1000000)\n",
    "v = u**3 * (60*u**4-84*u**2+35) / 11\n",
    "theta_test = np.arccos(v)\n",
    "#min(np.arccos(v)) / np.pi, max(np.arccos(v)) / np.pi\n",
    "c_test, s_test = make_cs(theta_test, np.random.uniform(0,2*np.pi,1000000))\n",
    "#plt.hist(np.real(s_test), bins=1000);\n",
    "plt.hist(np.real(c32),bins=1000);\n",
    "plt.hist(np.real(c_test), bins=1000);"
   ],
   "metadata": {
    "collapsed": false,
    "ExecuteTime": {
     "end_time": "2024-03-22T00:04:41.756586800Z",
     "start_time": "2024-03-22T00:04:38.827735200Z"
    }
   },
   "id": "3954668bf9d8e0b1",
   "execution_count": 518
  },
  {
   "cell_type": "code",
   "outputs": [],
   "source": [
    "params = sample_params(100000)\n",
    "# params = Params(\n",
    "#     mu0=np.array([0.5,0.5], dtype=\"complex256\"),\n",
    "#     mu1=np.array([0.25,0.25], dtype=\"complex256\"),\n",
    "#     mu2=np.array([.2,0.25], dtype=\"complex256\"),\n",
    "#     r=np.array([0.25,.75], dtype=\"complex256\"),\n",
    "#     zeta=np.array([np.pi, 3*np.pi/2], dtype=\"complex256\"),\n",
    "#     theta=np.array([np.pi / 5, np.pi/2], dtype=\"complex256\"),\n",
    "#     psi=np.array([np.pi / 3, 11*np.pi/6], dtype=\"complex256\"),\n",
    "#     theta_prime=np.array([np.pi / 3, 7*np.pi/8], dtype=\"complex256\"),\n",
    "#     psi_prime=np.array([np.pi / 2, 13*np.pi/24], dtype=\"complex256\"),\n",
    "#     theta0=np.array([3 * np.pi / 2, 7*np.pi/6], dtype=\"complex256\"),\n",
    "#     psi0=np.array([np.pi / 2, 0], dtype=\"complex256\"),\n",
    "#     theta21=np.array([np.pi / 2, np.pi/3], dtype=\"complex256\"),\n",
    "#     psi21=np.array([0, 5*np.pi/4], dtype=\"complex256\"),\n",
    "#     theta32=np.array([np.pi / 2, np.pi/7], dtype=\"complex256\"),\n",
    "#     psi32=np.array([3 * np.pi / 2, np.pi], dtype=\"complex256\"),)\n",
    "\n",
    "q_plus = np.sqrt((1 + params.r) / 2)\n",
    "q_minus = np.sqrt((1 - params.r) / 2)\n",
    "zeta = params.zeta\n",
    "mu0 = params.mu0\n",
    "mu1 = params.mu1\n",
    "mu2 = params.mu2\n",
    "mu3 = params.mu3\n",
    "\n",
    "s_mat = make_s_mat(params.theta, params.psi, params.theta_prime, params.psi_prime)\n",
    "\n",
    "c32, s32 = make_cs(params.theta32, params.psi32)\n",
    "c21, s21 = make_cs(params.theta21, params.psi21)\n",
    "#r_prime = 3 * np.log(np.random.uniform(np.e / 3, 1, 1000000))\n",
    "#phi_prime = np.random.uniform(0, 2*np.pi, 1000000)\n",
    "# c21 = ((1 + r_prime) / 2)**(1/2) * np.exp(-1j/2 * phi_prime)\n",
    "# s21 = ((1 - r_prime) / 2)**(1/2) * np.exp(1j/2 * phi_prime)\n",
    "c0, s0 = make_cs(params.theta0, params.psi0)"
   ],
   "metadata": {
    "collapsed": false,
    "ExecuteTime": {
     "end_time": "2024-04-17T06:29:03.884167Z",
     "start_time": "2024-04-17T06:29:03.768167700Z"
    }
   },
   "id": "47419842177e4744",
   "execution_count": 7
  },
  {
   "cell_type": "code",
   "outputs": [],
   "source": [
    "rho_prime = make_rho_prime_mat(sample_params(1000000))"
   ],
   "metadata": {
    "collapsed": false,
    "ExecuteTime": {
     "end_time": "2024-03-21T23:52:09.381144400Z",
     "start_time": "2024-03-21T23:52:04.671932600Z"
    }
   },
   "id": "693596e85b8aa01",
   "execution_count": 440
  },
  {
   "cell_type": "code",
   "outputs": [
    {
     "data": {
      "text/plain": "array([[ 0.29436416+9.97465999e-18j,  0.10990406+8.43997682e-02j,\n         0.03380616+2.91026407e-02j,  0.02418847+3.41109513e-02j],\n       [ 0.1163282 +4.33680869e-18j,  0.10273676-5.66441920e-02j,\n         0.04218823+6.88598369e-02j,  0.01497312+4.29218598e-02j],\n       [ 0.24302862+0.00000000e+00j, -0.1552676 +7.49394463e-03j,\n         0.0128492 +1.28463597e-03j,  0.19534951-6.18678483e-02j],\n       ...,\n       [ 0.23115494-5.20417043e-18j,  0.00948472-1.87648202e-02j,\n         0.02596062+4.61498795e-03j, -0.04442857+2.54194039e-02j],\n       [ 0.14479606+3.46944695e-18j,  0.08393994+4.42018853e-02j,\n        -0.03296136-4.61157796e-02j,  0.02465667+4.84178383e-02j],\n       [ 0.34593595+5.20417043e-18j,  0.09158446-1.27090963e-02j,\n         0.09303878+2.03407459e-02j,  0.06642697+3.34896000e-02j]])"
     },
     "execution_count": 441,
     "metadata": {},
     "output_type": "execute_result"
    }
   ],
   "source": [
    "e0_prime = np.matmul(rho_prime, np.array([1,0,0,0]))\n",
    "e0_prime"
   ],
   "metadata": {
    "collapsed": false,
    "ExecuteTime": {
     "end_time": "2024-03-21T23:52:09.469260900Z",
     "start_time": "2024-03-21T23:52:09.383529200Z"
    }
   },
   "id": "8a9f60bbd8248782",
   "execution_count": 441
  },
  {
   "cell_type": "code",
   "outputs": [],
   "source": [
    "def re_shape(x, n):\n",
    "    if len(x.shape) == 1:\n",
    "        return x.reshape(x.size, *([1]*n))\n",
    "    else:\n",
    "        raise TypeError"
   ],
   "metadata": {
    "collapsed": false,
    "ExecuteTime": {
     "end_time": "2024-04-17T06:29:09.736172100Z",
     "start_time": "2024-04-17T06:29:09.722170200Z"
    }
   },
   "id": "a007f0a987d35640",
   "execution_count": 8
  },
  {
   "cell_type": "code",
   "outputs": [],
   "source": [
    "q_plus = re_shape(q_plus,1)\n",
    "q_minus = re_shape(q_minus,1)\n",
    "zeta = re_shape(zeta,1)\n",
    "c32 = re_shape(c32,1)\n",
    "s32 = re_shape(s32,1)\n",
    "c21 = re_shape(c21,1)\n",
    "s21 = re_shape(s21,1)\n",
    "c0 = re_shape(c0,1)\n",
    "s0 = re_shape(s0,1)\n",
    "mu0 = re_shape(mu0,2)\n",
    "mu1 = re_shape(mu1,2)\n",
    "mu2 = re_shape(mu2,2)\n",
    "mu3 = re_shape(mu3,2)"
   ],
   "metadata": {
    "collapsed": false,
    "ExecuteTime": {
     "end_time": "2024-04-17T06:29:10.253685300Z",
     "start_time": "2024-04-17T06:29:10.234685800Z"
    }
   },
   "id": "44df8d53d6ae1289",
   "execution_count": 9
  },
  {
   "cell_type": "code",
   "outputs": [],
   "source": [
    "phi0 = np.matmul(s_mat, np.array([1, 0, 0, 0]))  # phi * phi'\n",
    "phi1 = np.matmul(s_mat, np.array([0, 1, 0, 0]))  # phi_perp * phi'_perp\n",
    "phi2 = np.matmul(s_mat, np.array([0, 0, 1, 0]))  # phi * phi'_perp\n",
    "phi3 = np.matmul(s_mat, np.array([0, 0, 0, 1]))  # phi_perp * phi'"
   ],
   "metadata": {
    "collapsed": false,
    "ExecuteTime": {
     "end_time": "2024-04-17T06:29:11.589737700Z",
     "start_time": "2024-04-17T06:29:11.532259Z"
    }
   },
   "id": "2e1e213d5a88e960",
   "execution_count": 10
  },
  {
   "cell_type": "code",
   "outputs": [
    {
     "data": {
      "text/plain": "array([[[0.+0.j, 0.+0.j, 0.+0.j, 0.+0.j],\n        [0.+0.j, 0.+0.j, 0.+0.j, 0.+0.j],\n        [0.+0.j, 0.+0.j, 0.+0.j, 0.+0.j],\n        [0.+0.j, 0.+0.j, 0.+0.j, 0.+0.j]],\n\n       [[0.+0.j, 0.+0.j, 0.+0.j, 0.+0.j],\n        [0.+0.j, 0.+0.j, 0.+0.j, 0.+0.j],\n        [0.+0.j, 0.+0.j, 0.+0.j, 0.+0.j],\n        [0.+0.j, 0.+0.j, 0.+0.j, 0.+0.j]],\n\n       [[0.+0.j, 0.+0.j, 0.+0.j, 0.+0.j],\n        [0.+0.j, 0.+0.j, 0.+0.j, 0.+0.j],\n        [0.+0.j, 0.+0.j, 0.+0.j, 0.+0.j],\n        [0.+0.j, 0.+0.j, 0.+0.j, 0.+0.j]],\n\n       ...,\n\n       [[0.+0.j, 0.+0.j, 0.+0.j, 0.+0.j],\n        [0.+0.j, 0.+0.j, 0.+0.j, 0.+0.j],\n        [0.+0.j, 0.+0.j, 0.+0.j, 0.+0.j],\n        [0.+0.j, 0.+0.j, 0.+0.j, 0.+0.j]],\n\n       [[0.+0.j, 0.+0.j, 0.+0.j, 0.+0.j],\n        [0.+0.j, 0.+0.j, 0.+0.j, 0.+0.j],\n        [0.+0.j, 0.+0.j, 0.+0.j, 0.+0.j],\n        [0.+0.j, 0.+0.j, 0.+0.j, 0.+0.j]],\n\n       [[0.+0.j, 0.+0.j, 0.+0.j, 0.+0.j],\n        [0.+0.j, 0.+0.j, 0.+0.j, 0.+0.j],\n        [0.+0.j, 0.+0.j, 0.+0.j, 0.+0.j],\n        [0.+0.j, 0.+0.j, 0.+0.j, 0.+0.j]]])"
     },
     "execution_count": 445,
     "metadata": {},
     "output_type": "execute_result"
    }
   ],
   "source": [
    "s_mat - np.transpose(np.array([phi0, phi1, phi2, phi3]), (1,2,0))"
   ],
   "metadata": {
    "collapsed": false,
    "ExecuteTime": {
     "end_time": "2024-03-21T23:52:10.048873100Z",
     "start_time": "2024-03-21T23:52:09.782927700Z"
    }
   },
   "id": "491db2006057791e",
   "execution_count": 445
  },
  {
   "cell_type": "code",
   "outputs": [],
   "source": [
    "e0 = q_plus * phi0 + np.exp(1j * zeta) * q_minus * phi1\n",
    "e0_perp = -np.exp(-1j * zeta) * q_minus * phi0 + q_plus * phi1\n",
    "e1 = c21 * e0_perp + s21 * (c32 * phi2 + s32 * phi3)\n",
    "#e1 = c32 * phi2 + s32 * phi3\n",
    "e2 = -c0 * np.conj(s21) * e0_perp + (\n",
    "        c0 * np.conj(c21) * c32 - s0 * np.conj(s32)) * phi2 + (\n",
    "        c0 * np.conj(c21) * s32 + s0 * np.conj(c32)) * phi3\n",
    "e3 = np.conj(s0) * np.conj(s21) * e0_perp - (\n",
    "        np.conj(s0) * np.conj(c21) * c32 + np.conj(c0) * np.conj(s32)) * phi2 - (\n",
    "        np.conj(s0) * np.conj(c21) * s32 - np.conj(c0) * np.conj(c32)) * phi3"
   ],
   "metadata": {
    "collapsed": false,
    "ExecuteTime": {
     "end_time": "2024-04-17T06:29:13.601635Z",
     "start_time": "2024-04-17T06:29:13.519873300Z"
    }
   },
   "id": "d319d7bb780d2111",
   "execution_count": 11
  },
  {
   "cell_type": "code",
   "outputs": [],
   "source": [
    "def proj_op(v):\n",
    "    return np.apply_along_axis(lambda x: np.outer(x,np.conj(x)), 1, v)"
   ],
   "metadata": {
    "collapsed": false,
    "ExecuteTime": {
     "end_time": "2024-03-21T23:52:10.582460Z",
     "start_time": "2024-03-21T23:52:10.580408100Z"
    }
   },
   "id": "75f31b76cc815d4b",
   "execution_count": null
  },
  {
   "cell_type": "code",
   "outputs": [],
   "source": [
    "rho_prime = mu0 * proj_op(e0) + mu1 * proj_op(e1) + mu2 * proj_op(e2) + mu3 * proj_op(e3)"
   ],
   "metadata": {
    "collapsed": false,
    "ExecuteTime": {
     "start_time": "2024-03-21T23:52:10.582643400Z"
    }
   },
   "id": "174c1212f880925b",
   "execution_count": null
  },
  {
   "cell_type": "code",
   "outputs": [],
   "source": [
    "rho_prime - np.array([[[ 0.31527774+2.54109884e-21j,  0.01216335-9.18240721e-02j,\n",
    "          0.02423271-7.52546547e-02j,  0.03021712+2.28857079e-02j],\n",
    "        [ 0.01216335+9.18240721e-02j,  0.26396039-6.35274710e-21j,\n",
    "          0.04198577+4.85660284e-02j, -0.05128625+1.08831119e-01j],\n",
    "        [ 0.02423271+7.52546547e-02j,  0.04198577-4.85660284e-02j,\n",
    "          0.27443885+1.27054942e-21j, -0.00552253+9.85164780e-02j],\n",
    "        [ 0.03021712-2.28857079e-02j, -0.05128625-1.08831119e-01j,\n",
    "         -0.00552253-9.85164780e-02j,  0.14632302-1.27054942e-21j]], \n",
    "\n",
    "        [[ 0.23730269+2.54109884e-21j, -0.03113797-4.17596996e-02j,\n",
    "         -0.07501871-7.11876747e-03j, -0.0376405 -5.29239301e-02j],\n",
    "        [-0.03113797+4.17596996e-02j,  0.32409731+9.31736242e-21j,\n",
    "          0.05490746+1.05341589e-01j,  0.07215979+8.28041517e-02j],\n",
    "        [-0.07501871+7.11876747e-03j,  0.05490746-1.05341589e-01j,\n",
    "          0.09518626-8.47032947e-22j,  0.01822409-6.48878484e-02j],\n",
    "        [-0.0376405 +5.29239301e-02j,  0.07215979-8.28041517e-02j,\n",
    "          0.01822409+6.48878484e-02j,  0.34341374-1.35525272e-20j]]])"
   ],
   "metadata": {
    "collapsed": false,
    "ExecuteTime": {
     "start_time": "2024-03-21T23:52:10.583773800Z"
    }
   },
   "id": "6332213d0fb818fe",
   "execution_count": null
  },
  {
   "cell_type": "code",
   "outputs": [],
   "source": [
    "def concurrence(a0, a1, a2, a3, p1, p2, p3):\n",
    "    return 2 * np.abs(a0 * a3 * np.exp(1j * p3) - a1 * np.exp(1j * p1) * a2 * np.exp(1j * p2))\n",
    "\n",
    "def concurrence_from_vec(x, n):\n",
    "    a0 = np.abs(x[:, 0])\n",
    "    a1 = np.abs(x[:, 1])\n",
    "    a2 = np.abs(x[:, 2])\n",
    "    a3 = np.abs(x[:, 3])\n",
    "    p0 = np.angle(x[:, 0])\n",
    "    p1 = np.angle(x[:, 1]) - p0\n",
    "    p2 = np.angle(x[:, 2]) - p0\n",
    "    p3 = np.angle(x[:, 3]) - p0\n",
    "    return concurrence(a0, a1, a2, a3, p1, p2, p3)"
   ],
   "metadata": {
    "collapsed": false,
    "ExecuteTime": {
     "start_time": "2024-03-21T23:52:10.638633900Z"
    }
   },
   "id": "4d2f288976ccac9b",
   "execution_count": null
  },
  {
   "cell_type": "code",
   "outputs": [
    {
     "data": {
      "text/plain": "(0.5593886500790576,\n 0.9963194594674178,\n 0.8463724689132084,\n 0.07094171570854176,\n 0.0036805405325818206,\n 0.4406113499209423,\n 0.1536275310867915,\n 0.07094171570854176)"
     },
     "execution_count": 639,
     "metadata": {},
     "output_type": "execute_result"
    },
    {
     "data": {
      "text/plain": "<Figure size 640x480 with 1 Axes>",
      "image/png": "[encoded data removed]"
     },
     "metadata": {},
     "output_type": "display_data"
    }
   ],
   "source": [
    "# coeffs = np.sqrt(np.random.dirichlet(np.ones(4),1000000))\n",
    "# phases = np.random.uniform(0, 2*np.pi, (1000000, 3))\n",
    "# plt.hist(concurrence(coeffs[:,0],coeffs[:,1],coeffs[:,2],coeffs[:,3], phases[:,0],phases[:,1],phases[:,2]), bins=1000);\n",
    "\n",
    "plt.hist(concurrence_from_vec(e0),bins=1000);\n",
    "plt.hist(concurrence_from_vec(e1),bins=1000);\n",
    "(np.min(np.abs(c21)**2), np.max(np.abs(c21)**2), np.mean(np.abs(c21)**2),\n",
    " np.std(np.abs(c21)**2), np.min(np.abs(s21)**2), np.max(np.abs(s21)**2),\n",
    " np.mean(np.abs(s21)**2), np.std(np.abs(s21)**2))\n",
    "#print(c21[1:20])\n",
    "#plt.hist(concurrence_from_vec(e2),bins=1000);"
   ],
   "metadata": {
    "collapsed": false,
    "ExecuteTime": {
     "end_time": "2024-03-22T01:23:00.899962Z",
     "start_time": "2024-03-22T01:22:57.900752900Z"
    }
   },
   "id": "ee332037cb82892",
   "execution_count": 639
  },
  {
   "cell_type": "code",
   "outputs": [
    {
     "data": {
      "text/plain": "<Figure size 640x480 with 1 Axes>",
      "image/png": "[encoded data removed]"
     },
     "metadata": {},
     "output_type": "display_data"
    }
   ],
   "source": [
    "# plt.hist((np.angle(e1[:, 1]) - np.angle(e1[:, 0])) % (2 * np.pi), bins=1000);\n",
    "\n",
    "plt.hist(np.random.dirichlet(np.ones(4), 1000000)[:,0], bins=1000);\n",
    "plt.hist(np.abs(e1[:,2])**2, bins=1000);"
   ],
   "metadata": {
    "collapsed": false,
    "ExecuteTime": {
     "end_time": "2024-03-22T00:29:26.171464200Z",
     "start_time": "2024-03-22T00:29:23.362761200Z"
    }
   },
   "id": "d0b74b5dc18e25f8",
   "execution_count": 587
  },
  {
   "cell_type": "code",
   "outputs": [],
   "source": [
    "plt.hist(np.abs(e1[:,2])**2, bins=1000);\n",
    "plt.hist(np.random.dirichlet(np.ones(4), 1000000)[:,0], bins=1000);"
   ],
   "metadata": {
    "collapsed": false,
    "ExecuteTime": {
     "start_time": "2024-03-21T23:52:10.639682100Z"
    }
   },
   "id": "eea63eec6fd3fb9a",
   "execution_count": null
  },
  {
   "cell_type": "code",
   "outputs": [],
   "source": [
    "u = np.random.uniform(0,1,1000000)\n",
    "z = (2j * np.sqrt(u - u**2) + 2*u - 1)**(1/3)\n",
    "z += 1 / z\n",
    "xi = np.arccos(z)\n",
    "xi\n",
    "dummy = np.real_if_close(np.cos(xi), 1e-15)\n",
    "plt.hist(1 / 4 * dummy**3 - 3 / 4 * dummy + 1 / 2, bins=1000);"
   ],
   "metadata": {
    "collapsed": false,
    "ExecuteTime": {
     "start_time": "2024-03-21T23:52:10.639682100Z"
    }
   },
   "id": "baff973db036c8de",
   "execution_count": null
  },
  {
   "cell_type": "code",
   "outputs": [
    {
     "data": {
      "text/plain": "array([0.001795  , 0.00279299, 0.00379098, ..., 0.99778857, 0.99878656,\n       0.99978455])"
     },
     "execution_count": 644,
     "metadata": {},
     "output_type": "execute_result"
    },
    {
     "data": {
      "text/plain": "<Figure size 640x480 with 1 Axes>",
      "image/png": "[encoded data removed]"
     },
     "metadata": {},
     "output_type": "display_data"
    }
   ],
   "source": [
    "test_data_x, test_data_y, _ = plt.hist(concurrence_from_vec(e0),bins=1000)\n",
    "test_data_x\n",
    "test_data_y "
   ],
   "metadata": {
    "collapsed": false,
    "ExecuteTime": {
     "end_time": "2024-03-22T09:42:55.469860Z",
     "start_time": "2024-03-22T09:42:54.433252900Z"
    }
   },
   "id": "885d434b3885ec53",
   "execution_count": 644
  }
 ],
 "metadata": {
  "kernelspec": {
   "display_name": "Python 3",
   "language": "python",
   "name": "python3"
  },
  "language_info": {
   "codemirror_mode": {
    "name": "ipython",
    "version": 2
   },
   "file_extension": ".py",
   "mimetype": "text/x-python",
   "name": "python",
   "nbconvert_exporter": "python",
   "pygments_lexer": "ipython2",
   "version": "2.7.6"
  }
 },
 "nbformat": 4,
 "nbformat_minor": 5
}
