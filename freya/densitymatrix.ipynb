{
 "cells": [
  {
   "cell_type": "code",
   "execution_count": 1,
   "id": "f53431ae-b485-4233-9162-a459e2d12ff6",
   "metadata": {
    "ExecuteTime": {
     "end_time": "2024-04-07T01:20:50.978974200Z",
     "start_time": "2024-04-07T01:20:49.024543100Z"
    }
   },
   "outputs": [],
   "source": [
    "# The first notebook I wrote for my thesis. I tried to get an analytical solution to the density matrix in the |00>,...,|11> basis using SymPy,\n",
    "# but it was much too slow for the job and didn't give me anything even after running on my laptop for more than 36 hours.\n",
    "# The code in this document takes eight seconds to numerically calculate a single density matrix from predefined arguments.\n",
    "# My NumPy implementation (in mixedstates.ipynb and generate_states.py) can calculate a million density matrices from randomly sampled arguments\n",
    "# in seven. I did use this file's output to verify my NumPy implementation, though.\n",
    "\n",
    "from sympy import *\n",
    "from sympy.physics.quantum.dagger import Dagger\n",
    "from IPython import display\n",
    "i = I\n",
    "conj = conjugate"
   ]
  },
  {
   "cell_type": "code",
   "execution_count": 2,
   "id": "c81d11c9-9db0-4b29-bca5-ff4166af4f84",
   "metadata": {
    "ExecuteTime": {
     "end_time": "2024-04-07T01:21:14.343942800Z",
     "start_time": "2024-04-07T01:21:14.298947800Z"
    }
   },
   "outputs": [],
   "source": [
    "mu0, mu1, mu2, mu3, q_plus, q_minus, r, zeta = symbols('mu0 mu1 mu2 mu3 q_+ q_- r zeta', real=True)\n",
    "theta0, psi0, theta21, psi21, theta32, psi32, theta, psi, theta_prime, psi_prime = symbols('theta0 psi0 theta21 psi21 theta32 psi32 theta psi thetaprime psiprime', real=True)\n",
    "rho, rho_prime = symbols('rho rhoprime')\n",
    "c0, s0, c21, s21, c32, s32, c, s, c_prime, s_prime, q_plus, q_minus = symbols('c0 s0 c21 s21 c32 s32 c s cprime sprime q_+ q_-')"
   ]
  },
  {
   "cell_type": "code",
   "execution_count": 3,
   "id": "278b8d51-cef5-4ce2-99cd-6506b4199897",
   "metadata": {
    "ExecuteTime": {
     "end_time": "2024-04-07T01:21:16.569069700Z",
     "start_time": "2024-04-07T01:21:16.450074700Z"
    }
   },
   "outputs": [
    {
     "data": {
      "text/plain": "exp(-I*psi0/2)*cos(theta0/2)",
      "text/latex": "$\\displaystyle e^{- \\frac{i \\psi_{0}}{2}} \\cos{\\left(\\frac{\\theta_{0}}{2} \\right)}$"
     },
     "execution_count": 3,
     "metadata": {},
     "output_type": "execute_result"
    }
   ],
   "source": [
    "c0 = exp(-i*psi0/2)*cos(theta0/2)\n",
    "c0"
   ]
  },
  {
   "cell_type": "code",
   "execution_count": 4,
   "id": "451d6937-2665-41e0-8eb6-5e9eda77a779",
   "metadata": {
    "ExecuteTime": {
     "end_time": "2024-04-07T01:21:17.740962100Z",
     "start_time": "2024-04-07T01:21:17.667970200Z"
    }
   },
   "outputs": [
    {
     "data": {
      "text/plain": "exp(I*psi0/2)*sin(theta0/2)",
      "text/latex": "$\\displaystyle e^{\\frac{i \\psi_{0}}{2}} \\sin{\\left(\\frac{\\theta_{0}}{2} \\right)}$"
     },
     "execution_count": 4,
     "metadata": {},
     "output_type": "execute_result"
    }
   ],
   "source": [
    "s0 = exp(i*psi0/2)*sin(theta0/2)\n",
    "s0"
   ]
  },
  {
   "cell_type": "code",
   "execution_count": 5,
   "id": "76efb3d5-c94d-44fa-9af5-ac05f97521e6",
   "metadata": {
    "ExecuteTime": {
     "end_time": "2024-04-07T01:21:19.562583700Z",
     "start_time": "2024-04-07T01:21:19.485857100Z"
    }
   },
   "outputs": [
    {
     "data": {
      "text/plain": "exp(-I*psi21/2)*cos(theta21/2)",
      "text/latex": "$\\displaystyle e^{- \\frac{i \\psi_{21}}{2}} \\cos{\\left(\\frac{\\theta_{21}}{2} \\right)}$"
     },
     "execution_count": 5,
     "metadata": {},
     "output_type": "execute_result"
    }
   ],
   "source": [
    "c21 = exp(-i*psi21/2)*cos(theta21/2)\n",
    "c21"
   ]
  },
  {
   "cell_type": "code",
   "execution_count": 6,
   "id": "ef4fd0f8-a7e0-4197-82ce-b0a4d3edd7fe",
   "metadata": {
    "ExecuteTime": {
     "end_time": "2024-04-07T01:21:21.404796500Z",
     "start_time": "2024-04-07T01:21:21.371691500Z"
    }
   },
   "outputs": [
    {
     "data": {
      "text/plain": "exp(I*psi21/2)*sin(theta21/2)",
      "text/latex": "$\\displaystyle e^{\\frac{i \\psi_{21}}{2}} \\sin{\\left(\\frac{\\theta_{21}}{2} \\right)}$"
     },
     "execution_count": 6,
     "metadata": {},
     "output_type": "execute_result"
    }
   ],
   "source": [
    "s21 = exp(i*psi21/2)*sin(theta21/2)\n",
    "s21"
   ]
  },
  {
   "cell_type": "code",
   "execution_count": 7,
   "id": "004539fc-b982-41a0-bbb2-98ff996915f7",
   "metadata": {
    "ExecuteTime": {
     "end_time": "2024-04-07T01:21:23.610772300Z",
     "start_time": "2024-04-07T01:21:23.567757600Z"
    }
   },
   "outputs": [
    {
     "data": {
      "text/plain": "exp(-I*psi32/2)*cos(theta32/2)",
      "text/latex": "$\\displaystyle e^{- \\frac{i \\psi_{32}}{2}} \\cos{\\left(\\frac{\\theta_{32}}{2} \\right)}$"
     },
     "execution_count": 7,
     "metadata": {},
     "output_type": "execute_result"
    }
   ],
   "source": [
    "c32 = exp(-i*psi32/2)*cos(theta32/2)\n",
    "c32"
   ]
  },
  {
   "cell_type": "code",
   "execution_count": 8,
   "id": "5b7d7636-6ba1-4887-9df9-eacf9d26ac90",
   "metadata": {
    "ExecuteTime": {
     "end_time": "2024-04-07T01:21:26.247408800Z",
     "start_time": "2024-04-07T01:21:26.168408600Z"
    }
   },
   "outputs": [
    {
     "data": {
      "text/plain": "exp(I*psi32/2)*sin(theta32/2)",
      "text/latex": "$\\displaystyle e^{\\frac{i \\psi_{32}}{2}} \\sin{\\left(\\frac{\\theta_{32}}{2} \\right)}$"
     },
     "execution_count": 8,
     "metadata": {},
     "output_type": "execute_result"
    }
   ],
   "source": [
    "s32 = exp(i*psi32/2)*sin(theta32/2)\n",
    "s32"
   ]
  },
  {
   "cell_type": "code",
   "execution_count": 9,
   "id": "1e46adaa-6578-4041-a208-dca4a6ca50af",
   "metadata": {
    "ExecuteTime": {
     "end_time": "2024-04-07T01:21:28.279163700Z",
     "start_time": "2024-04-07T01:21:28.205566600Z"
    }
   },
   "outputs": [
    {
     "data": {
      "text/plain": "exp(-I*psi/2)*cos(theta/2)",
      "text/latex": "$\\displaystyle e^{- \\frac{i \\psi}{2}} \\cos{\\left(\\frac{\\theta}{2} \\right)}$"
     },
     "execution_count": 9,
     "metadata": {},
     "output_type": "execute_result"
    }
   ],
   "source": [
    "c = exp(-i*psi/2)*cos(theta/2)\n",
    "c"
   ]
  },
  {
   "cell_type": "code",
   "execution_count": 10,
   "id": "4437d8df-80af-4a32-9f72-d3644241c8ce",
   "metadata": {
    "ExecuteTime": {
     "end_time": "2024-04-07T01:21:29.990802800Z",
     "start_time": "2024-04-07T01:21:29.897267900Z"
    }
   },
   "outputs": [
    {
     "data": {
      "text/plain": "exp(I*psi/2)*sin(theta/2)",
      "text/latex": "$\\displaystyle e^{\\frac{i \\psi}{2}} \\sin{\\left(\\frac{\\theta}{2} \\right)}$"
     },
     "execution_count": 10,
     "metadata": {},
     "output_type": "execute_result"
    }
   ],
   "source": [
    "s = exp(i*psi/2)*sin(theta/2)\n",
    "s"
   ]
  },
  {
   "cell_type": "code",
   "execution_count": 11,
   "id": "35ef16ea-5fcc-4aa1-adc0-ff783de5e021",
   "metadata": {
    "ExecuteTime": {
     "end_time": "2024-04-07T01:21:31.731718100Z",
     "start_time": "2024-04-07T01:21:31.656014700Z"
    }
   },
   "outputs": [
    {
     "data": {
      "text/plain": "exp(-I*psiprime/2)*cos(thetaprime/2)",
      "text/latex": "$\\displaystyle e^{- \\frac{i {\\psi}'}{2}} \\cos{\\left(\\frac{{\\theta}'}{2} \\right)}$"
     },
     "execution_count": 11,
     "metadata": {},
     "output_type": "execute_result"
    }
   ],
   "source": [
    "c_prime = exp(-i*psi_prime/2)*cos(theta_prime/2)\n",
    "c_prime"
   ]
  },
  {
   "cell_type": "code",
   "execution_count": 12,
   "id": "4012dc42-ce13-49e9-b919-6a4c63a439e4",
   "metadata": {
    "ExecuteTime": {
     "end_time": "2024-04-07T01:21:33.364972900Z",
     "start_time": "2024-04-07T01:21:33.292977Z"
    }
   },
   "outputs": [
    {
     "data": {
      "text/plain": "exp(I*psiprime/2)*sin(thetaprime/2)",
      "text/latex": "$\\displaystyle e^{\\frac{i {\\psi}'}{2}} \\sin{\\left(\\frac{{\\theta}'}{2} \\right)}$"
     },
     "execution_count": 12,
     "metadata": {},
     "output_type": "execute_result"
    }
   ],
   "source": [
    "s_prime = exp(i*psi_prime/2)*sin(theta_prime/2)\n",
    "s_prime"
   ]
  },
  {
   "cell_type": "code",
   "execution_count": 13,
   "id": "a1d18c3b-3980-4f43-af2f-afbb4b21991e",
   "metadata": {},
   "outputs": [
    {
     "data": {
      "text/latex": [
       "$\\displaystyle \\mu_{3}$"
      ],
      "text/plain": [
       "mu3"
      ]
     },
     "execution_count": 13,
     "metadata": {},
     "output_type": "execute_result"
    }
   ],
   "source": [
    "#mu3 = 1 - mu0 - mu1 - mu2\n",
    "mu3"
   ]
  },
  {
   "cell_type": "code",
   "execution_count": 13,
   "id": "5a5e1adf-dbe3-4041-96ee-d79e26aa0252",
   "metadata": {
    "ExecuteTime": {
     "end_time": "2024-04-07T01:21:41.030546400Z",
     "start_time": "2024-04-07T01:21:40.992175700Z"
    }
   },
   "outputs": [
    {
     "data": {
      "text/plain": "sqrt((r + 1)/2)",
      "text/latex": "$\\displaystyle \\sqrt{\\frac{r + 1}{2}}$"
     },
     "execution_count": 13,
     "metadata": {},
     "output_type": "execute_result"
    }
   ],
   "source": [
    "with evaluate(False):\n",
    "    q_plus = sqrt((1+r)/2)\n",
    "q_plus"
   ]
  },
  {
   "cell_type": "code",
   "execution_count": 14,
   "id": "c2da60a1-be0b-4ee6-9c83-407f44c8c688",
   "metadata": {
    "ExecuteTime": {
     "end_time": "2024-04-07T01:21:42.952695300Z",
     "start_time": "2024-04-07T01:21:42.911177500Z"
    }
   },
   "outputs": [
    {
     "data": {
      "text/plain": "sqrt((1 - r)/2)",
      "text/latex": "$\\displaystyle \\sqrt{\\frac{1 - r}{2}}$"
     },
     "execution_count": 14,
     "metadata": {},
     "output_type": "execute_result"
    }
   ],
   "source": [
    "with evaluate(False):\n",
    "    q_minus = sqrt((1-r)/2)\n",
    "q_minus"
   ]
  },
  {
   "cell_type": "code",
   "execution_count": 15,
   "id": "aef0f0ef-c0db-49c8-bbf0-44d3492422b5",
   "metadata": {
    "ExecuteTime": {
     "end_time": "2024-04-07T01:21:45.692754200Z",
     "start_time": "2024-04-07T01:21:45.338649600Z"
    }
   },
   "outputs": [
    {
     "data": {
      "text/plain": "mu3 + (1 - r)*(mu1 - mu3)*cos(theta21/2)**2/2 + (1 - r)*(mu2 - mu3)*sin(theta21/2)**2*cos(theta0/2)**2/2 + (mu0 - mu3)*(r + 1)/2",
      "text/latex": "$\\displaystyle \\mu_{3} + \\frac{\\left(1 - r\\right) \\left(\\mu_{1} - \\mu_{3}\\right) \\cos^{2}{\\left(\\frac{\\theta_{21}}{2} \\right)}}{2} + \\frac{\\left(1 - r\\right) \\left(\\mu_{2} - \\mu_{3}\\right) \\sin^{2}{\\left(\\frac{\\theta_{21}}{2} \\right)} \\cos^{2}{\\left(\\frac{\\theta_{0}}{2} \\right)}}{2} + \\frac{\\left(\\mu_{0} - \\mu_{3}\\right) \\left(r + 1\\right)}{2}$"
     },
     "execution_count": 15,
     "metadata": {},
     "output_type": "execute_result"
    }
   ],
   "source": [
    "rho = Matrix([[(mu0-mu3)*q_plus**2+(mu1-mu3)*q_minus**2*Abs(c21)**2+(mu2-mu3)*q_minus**2*Abs(c0)**2*Abs(s21)**2+mu3,\n",
    "               (mu0-mu3)*exp(-i*zeta)*q_minus*q_plus-(mu1-mu3)*exp(-i*zeta)*q_minus*q_plus*Abs(c21)**2-(mu2-mu3)*exp(-i*zeta)*q_plus*q_minus*Abs(c0)**2*Abs(s21)**2,\n",
    "               -(mu1-mu3)*exp(-i*zeta)*q_minus*c21*conj(c32)*conj(s21)+(mu2-mu3)*exp(-i*zeta)*q_minus*c0*conj(s21)*(conj(c0)*c21*conj(c32)-conj(s0)*s32),\n",
    "               -(mu1-mu3)*exp(-i*zeta)*q_minus*c21*conj(s32)*conj(s21)+(mu2-mu3)*exp(-i*zeta)*q_minus*c0*conj(s21)*(conj(c0)*c21*conj(s32)+conj(s0)*c32)],\n",
    "             [(mu0-mu3)*exp(i*zeta)*q_minus*q_plus-(mu1-mu3)*exp(i*zeta)*q_minus*q_plus*Abs(c21)**2-(mu2-mu3)*exp(i*zeta)*q_minus*q_plus*Abs(c0)**2*Abs(s21)**2,\n",
    "              (mu0-mu3)*q_minus**2+(mu1-mu3)*q_plus**2*Abs(c21)**2+(mu2-mu3)*q_plus**2*Abs(c0)**2*Abs(s21)**2+mu3,\n",
    "              (mu1-mu3)*q_plus*c21*conj(c32)*conj(s21)-(mu2-mu3)*q_plus*c0*conj(s21)*(conj(c0)*c21*conj(c32)-conj(s0)*s32),\n",
    "              (mu1-mu3)*q_plus*c21*conj(s32)*conj(s21)-(mu2-mu3)*q_plus*c0*conj(s21)*(conj(c0)*c21*conj(s32)+conj(s0)*c32)],\n",
    "             [-(mu1-mu3)*exp(i*zeta)*q_minus*conj(c21)*c32*s21+(mu2-mu3)*exp(i*zeta)*q_minus*conj(c0)*s21*(c0*conj(c21)*c32-s0*conj(s32)),\n",
    "              (mu1-mu3)*q_plus*conj(c21)*c32*s21-(mu2-mu3)*q_plus*conj(c0)*s21*(c0*conj(c21)*c32-s0*conj(s32)),\n",
    "              (mu1-mu3)*Abs(c32)**2*Abs(s21)**2+(mu2-mu3)*Abs(c0*conj(c21)*c32-s0*conj(s32))**2+mu3,\n",
    "              (mu1-mu3)*Abs(s21)**2*c32*conj(s32)+(mu2-mu3)*(conj(c0)*c21*conj(s32)+conj(s0)*c32)*(c0*conj(c21)*c32-s0*conj(s32))],\n",
    "             [-(mu1-mu3)*exp(i*zeta)*q_minus*conj(c21)*s32*s21+(mu2-mu3)*exp(i*zeta)*q_minus*conj(c0)*s21*(c0*conj(c21)*s32+s0*conj(c32)),\n",
    "              (mu1-mu3)*q_plus*conj(c21)*s32*s21-(mu2-mu3)*q_plus*conj(c0)*s21*(c0*conj(c21)*s32+s0*conj(c32)),\n",
    "              (mu1-mu3)*Abs(s21)**2*conj(c32)*s32+(mu2-mu3)*(c0*conj(c21)*s32+s0*conj(c32))*(conj(c0)*c21*conj(c32)-conj(s0)*s32),\n",
    "              (mu1-mu3)*Abs(s21)**2*Abs(s32)**2+(mu2-mu3)*Abs(c0*conj(c21)*s32+s0*conj(c32))**2+mu3]])\n",
    "rho[0,0]"
   ]
  },
  {
   "cell_type": "code",
   "execution_count": 17,
   "id": "60f80b29-fa42-4254-a9cb-44c2b3b16d91",
   "metadata": {},
   "outputs": [],
   "source": [
    "#rho_prime = Matrix([[Abs(c)**2*Abs(c_prime)**2*rho[0,0]+c*s*c_prime*s_prime*rho[0,1]-Abs(c)^2]])\n",
    "#rho_prime"
   ]
  },
  {
   "cell_type": "code",
   "execution_count": 16,
   "id": "f0a3a241-1da7-4a5a-96d5-c9c26cce19df",
   "metadata": {
    "ExecuteTime": {
     "end_time": "2024-04-07T01:21:50.769031300Z",
     "start_time": "2024-04-07T01:21:50.694980400Z"
    }
   },
   "outputs": [
    {
     "data": {
      "text/plain": "Matrix([\n[exp(-I*psi/2)*exp(-I*psiprime/2)*cos(theta/2)*cos(thetaprime/2), exp(-I*psi/2)*exp(-I*psiprime/2)*sin(theta/2)*sin(thetaprime/2), -exp(-I*psi/2)*exp(-I*psiprime/2)*sin(thetaprime/2)*cos(theta/2), -exp(-I*psi/2)*exp(-I*psiprime/2)*sin(theta/2)*cos(thetaprime/2)],\n[ exp(-I*psi/2)*exp(I*psiprime/2)*sin(thetaprime/2)*cos(theta/2), -exp(-I*psi/2)*exp(I*psiprime/2)*sin(theta/2)*cos(thetaprime/2),   exp(-I*psi/2)*exp(I*psiprime/2)*cos(theta/2)*cos(thetaprime/2),  -exp(-I*psi/2)*exp(I*psiprime/2)*sin(theta/2)*sin(thetaprime/2)],\n[ exp(I*psi/2)*exp(-I*psiprime/2)*sin(theta/2)*cos(thetaprime/2), -exp(I*psi/2)*exp(-I*psiprime/2)*sin(thetaprime/2)*cos(theta/2),  -exp(I*psi/2)*exp(-I*psiprime/2)*sin(theta/2)*sin(thetaprime/2),   exp(I*psi/2)*exp(-I*psiprime/2)*cos(theta/2)*cos(thetaprime/2)],\n[  exp(I*psi/2)*exp(I*psiprime/2)*sin(theta/2)*sin(thetaprime/2),   exp(I*psi/2)*exp(I*psiprime/2)*cos(theta/2)*cos(thetaprime/2),    exp(I*psi/2)*exp(I*psiprime/2)*sin(theta/2)*cos(thetaprime/2),    exp(I*psi/2)*exp(I*psiprime/2)*sin(thetaprime/2)*cos(theta/2)]])",
      "text/latex": "$\\displaystyle \\left[\\begin{matrix}e^{- \\frac{i \\psi}{2}} e^{- \\frac{i {\\psi}'}{2}} \\cos{\\left(\\frac{\\theta}{2} \\right)} \\cos{\\left(\\frac{{\\theta}'}{2} \\right)} & e^{- \\frac{i \\psi}{2}} e^{- \\frac{i {\\psi}'}{2}} \\sin{\\left(\\frac{\\theta}{2} \\right)} \\sin{\\left(\\frac{{\\theta}'}{2} \\right)} & - e^{- \\frac{i \\psi}{2}} e^{- \\frac{i {\\psi}'}{2}} \\sin{\\left(\\frac{{\\theta}'}{2} \\right)} \\cos{\\left(\\frac{\\theta}{2} \\right)} & - e^{- \\frac{i \\psi}{2}} e^{- \\frac{i {\\psi}'}{2}} \\sin{\\left(\\frac{\\theta}{2} \\right)} \\cos{\\left(\\frac{{\\theta}'}{2} \\right)}\\\\e^{- \\frac{i \\psi}{2}} e^{\\frac{i {\\psi}'}{2}} \\sin{\\left(\\frac{{\\theta}'}{2} \\right)} \\cos{\\left(\\frac{\\theta}{2} \\right)} & - e^{- \\frac{i \\psi}{2}} e^{\\frac{i {\\psi}'}{2}} \\sin{\\left(\\frac{\\theta}{2} \\right)} \\cos{\\left(\\frac{{\\theta}'}{2} \\right)} & e^{- \\frac{i \\psi}{2}} e^{\\frac{i {\\psi}'}{2}} \\cos{\\left(\\frac{\\theta}{2} \\right)} \\cos{\\left(\\frac{{\\theta}'}{2} \\right)} & - e^{- \\frac{i \\psi}{2}} e^{\\frac{i {\\psi}'}{2}} \\sin{\\left(\\frac{\\theta}{2} \\right)} \\sin{\\left(\\frac{{\\theta}'}{2} \\right)}\\\\e^{\\frac{i \\psi}{2}} e^{- \\frac{i {\\psi}'}{2}} \\sin{\\left(\\frac{\\theta}{2} \\right)} \\cos{\\left(\\frac{{\\theta}'}{2} \\right)} & - e^{\\frac{i \\psi}{2}} e^{- \\frac{i {\\psi}'}{2}} \\sin{\\left(\\frac{{\\theta}'}{2} \\right)} \\cos{\\left(\\frac{\\theta}{2} \\right)} & - e^{\\frac{i \\psi}{2}} e^{- \\frac{i {\\psi}'}{2}} \\sin{\\left(\\frac{\\theta}{2} \\right)} \\sin{\\left(\\frac{{\\theta}'}{2} \\right)} & e^{\\frac{i \\psi}{2}} e^{- \\frac{i {\\psi}'}{2}} \\cos{\\left(\\frac{\\theta}{2} \\right)} \\cos{\\left(\\frac{{\\theta}'}{2} \\right)}\\\\e^{\\frac{i \\psi}{2}} e^{\\frac{i {\\psi}'}{2}} \\sin{\\left(\\frac{\\theta}{2} \\right)} \\sin{\\left(\\frac{{\\theta}'}{2} \\right)} & e^{\\frac{i \\psi}{2}} e^{\\frac{i {\\psi}'}{2}} \\cos{\\left(\\frac{\\theta}{2} \\right)} \\cos{\\left(\\frac{{\\theta}'}{2} \\right)} & e^{\\frac{i \\psi}{2}} e^{\\frac{i {\\psi}'}{2}} \\sin{\\left(\\frac{\\theta}{2} \\right)} \\cos{\\left(\\frac{{\\theta}'}{2} \\right)} & e^{\\frac{i \\psi}{2}} e^{\\frac{i {\\psi}'}{2}} \\sin{\\left(\\frac{{\\theta}'}{2} \\right)} \\cos{\\left(\\frac{\\theta}{2} \\right)}\\end{matrix}\\right]$"
     },
     "execution_count": 16,
     "metadata": {},
     "output_type": "execute_result"
    }
   ],
   "source": [
    "S = Matrix([[c*c_prime, conj(s)*conj(s_prime), -c*conj(s_prime), -conj(s)*c_prime], [c*s_prime, -conj(s)*conj(c_prime), c*conj(c_prime), -conj(s)*s_prime],\n",
    "            [s*c_prime, -conj(c)*conj(s_prime), -s*conj(s_prime), conj(c)*c_prime], [s*s_prime, conj(c)*conj(c_prime), s*conj(c_prime), conj(c)*s_prime]])\n",
    "S"
   ]
  },
  {
   "cell_type": "code",
   "execution_count": 19,
   "id": "69059fc2-bdc8-4bd0-b34c-41c86866f87a",
   "metadata": {},
   "outputs": [],
   "source": [
    "#Dagger(S)"
   ]
  },
  {
   "cell_type": "code",
   "execution_count": 19,
   "id": "55f009b2-209c-45ba-b8bf-4f6b68b7dc22",
   "metadata": {
    "ExecuteTime": {
     "end_time": "2024-04-07T01:26:33.688735900Z",
     "start_time": "2024-04-07T01:26:33.534736Z"
    }
   },
   "outputs": [
    {
     "name": "stdout",
     "output_type": "stream",
     "text": [
      "- \\left(- \\left(\\left(\\mu_{1} - \\mu_{3}\\right) e^{- i \\psi_{32}} \\sin^{2}{\\left(\\frac{\\theta_{21}}{2} \\right)} \\sin{\\left(\\frac{\\theta_{32}}{2} \\right)} \\cos{\\left(\\frac{\\theta_{32}}{2} \\right)} + \\left(\\mu_{2} - \\mu_{3}\\right) \\left(- e^{\\frac{i \\psi_{0}}{2}} e^{- \\frac{i \\psi_{32}}{2}} \\sin{\\left(\\frac{\\theta_{0}}{2} \\right)} \\sin{\\left(\\frac{\\theta_{32}}{2} \\right)} + e^{- \\frac{i \\psi_{0}}{2}} e^{\\frac{i \\psi_{21}}{2}} e^{- \\frac{i \\psi_{32}}{2}} \\cos{\\left(\\frac{\\theta_{0}}{2} \\right)} \\cos{\\left(\\frac{\\theta_{21}}{2} \\right)} \\cos{\\left(\\frac{\\theta_{32}}{2} \\right)}\\right) \\left(e^{\\frac{i \\psi_{0}}{2}} e^{- \\frac{i \\psi_{21}}{2}} e^{- \\frac{i \\psi_{32}}{2}} \\sin{\\left(\\frac{\\theta_{32}}{2} \\right)} \\cos{\\left(\\frac{\\theta_{0}}{2} \\right)} \\cos{\\left(\\frac{\\theta_{21}}{2} \\right)} + e^{- \\frac{i \\psi_{0}}{2}} e^{- \\frac{i \\psi_{32}}{2}} \\sin{\\left(\\frac{\\theta_{0}}{2} \\right)} \\cos{\\left(\\frac{\\theta_{32}}{2} \\right)}\\right)\\right) e^{- \\frac{i \\psi}{2}} e^{- \\frac{i {\\psi}'}{2}} \\sin{\\left(\\frac{{\\theta}'}{2} \\right)} \\cos{\\left(\\frac{\\theta}{2} \\right)} + \\left(\\frac{\\sqrt{2} \\left(\\mu_{1} - \\mu_{3}\\right) \\sqrt{r + 1} e^{- i \\psi_{21}} e^{- \\frac{i \\psi_{32}}{2}} \\sin{\\left(\\frac{\\theta_{21}}{2} \\right)} \\sin{\\left(\\frac{\\theta_{32}}{2} \\right)} \\cos{\\left(\\frac{\\theta_{21}}{2} \\right)}}{2} - \\frac{\\sqrt{2} \\left(\\mu_{2} - \\mu_{3}\\right) \\sqrt{r + 1} \\left(e^{\\frac{i \\psi_{0}}{2}} e^{- \\frac{i \\psi_{21}}{2}} e^{- \\frac{i \\psi_{32}}{2}} \\sin{\\left(\\frac{\\theta_{32}}{2} \\right)} \\cos{\\left(\\frac{\\theta_{0}}{2} \\right)} \\cos{\\left(\\frac{\\theta_{21}}{2} \\right)} + e^{- \\frac{i \\psi_{0}}{2}} e^{- \\frac{i \\psi_{32}}{2}} \\sin{\\left(\\frac{\\theta_{0}}{2} \\right)} \\cos{\\left(\\frac{\\theta_{32}}{2} \\right)}\\right) e^{- \\frac{i \\psi_{0}}{2}} e^{- \\frac{i \\psi_{21}}{2}} \\sin{\\left(\\frac{\\theta_{21}}{2} \\right)} \\cos{\\left(\\frac{\\theta_{0}}{2} \\right)}}{2}\\right) e^{- \\frac{i \\psi}{2}} e^{- \\frac{i {\\psi}'}{2}} \\sin{\\left(\\frac{\\theta}{2} \\right)} \\sin{\\left(\\frac{{\\theta}'}{2} \\right)} + \\left(\\frac{\\sqrt{2} \\sqrt{1 - r} \\left(- \\mu_{1} + \\mu_{3}\\right) e^{- i \\psi_{21}} e^{- \\frac{i \\psi_{32}}{2}} e^{- i \\zeta} \\sin{\\left(\\frac{\\theta_{21}}{2} \\right)} \\sin{\\left(\\frac{\\theta_{32}}{2} \\right)} \\cos{\\left(\\frac{\\theta_{21}}{2} \\right)}}{2} + \\frac{\\sqrt{2} \\sqrt{1 - r} \\left(\\mu_{2} - \\mu_{3}\\right) \\left(e^{\\frac{i \\psi_{0}}{2}} e^{- \\frac{i \\psi_{21}}{2}} e^{- \\frac{i \\psi_{32}}{2}} \\sin{\\left(\\frac{\\theta_{32}}{2} \\right)} \\cos{\\left(\\frac{\\theta_{0}}{2} \\right)} \\cos{\\left(\\frac{\\theta_{21}}{2} \\right)} + e^{- \\frac{i \\psi_{0}}{2}} e^{- \\frac{i \\psi_{32}}{2}} \\sin{\\left(\\frac{\\theta_{0}}{2} \\right)} \\cos{\\left(\\frac{\\theta_{32}}{2} \\right)}\\right) e^{- \\frac{i \\psi_{0}}{2}} e^{- \\frac{i \\psi_{21}}{2}} e^{- i \\zeta} \\sin{\\left(\\frac{\\theta_{21}}{2} \\right)} \\cos{\\left(\\frac{\\theta_{0}}{2} \\right)}}{2}\\right) e^{- \\frac{i \\psi}{2}} e^{- \\frac{i {\\psi}'}{2}} \\cos{\\left(\\frac{\\theta}{2} \\right)} \\cos{\\left(\\frac{{\\theta}'}{2} \\right)} - \\left(\\mu_{3} + \\left(\\mu_{1} - \\mu_{3}\\right) \\sin^{2}{\\left(\\frac{\\theta_{21}}{2} \\right)} \\sin^{2}{\\left(\\frac{\\theta_{32}}{2} \\right)} + \\left(\\mu_{2} - \\mu_{3}\\right) \\left(e^{i \\psi_{0}} e^{- \\frac{i \\psi_{21}}{2}} \\sin{\\left(\\frac{\\theta_{0}}{2} \\right)} \\sin{\\left(\\frac{\\theta_{32}}{2} \\right)} \\cos{\\left(\\frac{\\theta_{0}}{2} \\right)} \\cos{\\left(\\frac{\\theta_{21}}{2} \\right)} \\cos{\\left(\\frac{\\theta_{32}}{2} \\right)} + \\sin^{2}{\\left(\\frac{\\theta_{0}}{2} \\right)} \\cos^{2}{\\left(\\frac{\\theta_{32}}{2} \\right)} + \\sin^{2}{\\left(\\frac{\\theta_{32}}{2} \\right)} \\cos^{2}{\\left(\\frac{\\theta_{0}}{2} \\right)} \\cos^{2}{\\left(\\frac{\\theta_{21}}{2} \\right)} + e^{- i \\psi_{0}} e^{\\frac{i \\psi_{21}}{2}} \\sin{\\left(\\frac{\\theta_{0}}{2} \\right)} \\sin{\\left(\\frac{\\theta_{32}}{2} \\right)} \\cos{\\left(\\frac{\\theta_{0}}{2} \\right)} \\cos{\\left(\\frac{\\theta_{21}}{2} \\right)} \\cos{\\left(\\frac{\\theta_{32}}{2} \\right)}\\right)\\right) e^{- \\frac{i \\psi}{2}} e^{- \\frac{i {\\psi}'}{2}} \\sin{\\left(\\frac{\\theta}{2} \\right)} \\cos{\\left(\\frac{{\\theta}'}{2} \\right)}\\right) e^{\\frac{i \\psi}{2}} e^{\\frac{i {\\psi}'}{2}} \\sin{\\left(\\frac{\\theta}{2} \\right)} \\cos{\\left(\\frac{{\\theta}'}{2} \\right)} - \\left(- \\left(\\left(\\mu_{1} - \\mu_{3}\\right) e^{i \\psi_{32}} \\sin^{2}{\\left(\\frac{\\theta_{21}}{2} \\right)} \\sin{\\left(\\frac{\\theta_{32}}{2} \\right)} \\cos{\\left(\\frac{\\theta_{32}}{2} \\right)} + \\left(\\mu_{2} - \\mu_{3}\\right) \\left(e^{\\frac{i \\psi_{0}}{2}} e^{\\frac{i \\psi_{32}}{2}} \\sin{\\left(\\frac{\\theta_{0}}{2} \\right)} \\cos{\\left(\\frac{\\theta_{32}}{2} \\right)} + e^{- \\frac{i \\psi_{0}}{2}} e^{\\frac{i \\psi_{21}}{2}} e^{\\frac{i \\psi_{32}}{2}} \\sin{\\left(\\frac{\\theta_{32}}{2} \\right)} \\cos{\\left(\\frac{\\theta_{0}}{2} \\right)} \\cos{\\left(\\frac{\\theta_{21}}{2} \\right)}\\right) \\left(e^{\\frac{i \\psi_{0}}{2}} e^{- \\frac{i \\psi_{21}}{2}} e^{\\frac{i \\psi_{32}}{2}} \\cos{\\left(\\frac{\\theta_{0}}{2} \\right)} \\cos{\\left(\\frac{\\theta_{21}}{2} \\right)} \\cos{\\left(\\frac{\\theta_{32}}{2} \\right)} - e^{- \\frac{i \\psi_{0}}{2}} e^{\\frac{i \\psi_{32}}{2}} \\sin{\\left(\\frac{\\theta_{0}}{2} \\right)} \\sin{\\left(\\frac{\\theta_{32}}{2} \\right)}\\right)\\right) e^{- \\frac{i \\psi}{2}} e^{- \\frac{i {\\psi}'}{2}} \\sin{\\left(\\frac{\\theta}{2} \\right)} \\cos{\\left(\\frac{{\\theta}'}{2} \\right)} + \\left(\\frac{\\sqrt{2} \\left(\\mu_{1} - \\mu_{3}\\right) \\sqrt{r + 1} e^{- i \\psi_{21}} e^{\\frac{i \\psi_{32}}{2}} \\sin{\\left(\\frac{\\theta_{21}}{2} \\right)} \\cos{\\left(\\frac{\\theta_{21}}{2} \\right)} \\cos{\\left(\\frac{\\theta_{32}}{2} \\right)}}{2} - \\frac{\\sqrt{2} \\left(\\mu_{2} - \\mu_{3}\\right) \\sqrt{r + 1} \\left(e^{\\frac{i \\psi_{0}}{2}} e^{- \\frac{i \\psi_{21}}{2}} e^{\\frac{i \\psi_{32}}{2}} \\cos{\\left(\\frac{\\theta_{0}}{2} \\right)} \\cos{\\left(\\frac{\\theta_{21}}{2} \\right)} \\cos{\\left(\\frac{\\theta_{32}}{2} \\right)} - e^{- \\frac{i \\psi_{0}}{2}} e^{\\frac{i \\psi_{32}}{2}} \\sin{\\left(\\frac{\\theta_{0}}{2} \\right)} \\sin{\\left(\\frac{\\theta_{32}}{2} \\right)}\\right) e^{- \\frac{i \\psi_{0}}{2}} e^{- \\frac{i \\psi_{21}}{2}} \\sin{\\left(\\frac{\\theta_{21}}{2} \\right)} \\cos{\\left(\\frac{\\theta_{0}}{2} \\right)}}{2}\\right) e^{- \\frac{i \\psi}{2}} e^{- \\frac{i {\\psi}'}{2}} \\sin{\\left(\\frac{\\theta}{2} \\right)} \\sin{\\left(\\frac{{\\theta}'}{2} \\right)} + \\left(\\frac{\\sqrt{2} \\sqrt{1 - r} \\left(- \\mu_{1} + \\mu_{3}\\right) e^{- i \\psi_{21}} e^{\\frac{i \\psi_{32}}{2}} e^{- i \\zeta} \\sin{\\left(\\frac{\\theta_{21}}{2} \\right)} \\cos{\\left(\\frac{\\theta_{21}}{2} \\right)} \\cos{\\left(\\frac{\\theta_{32}}{2} \\right)}}{2} + \\frac{\\sqrt{2} \\sqrt{1 - r} \\left(\\mu_{2} - \\mu_{3}\\right) \\left(e^{\\frac{i \\psi_{0}}{2}} e^{- \\frac{i \\psi_{21}}{2}} e^{\\frac{i \\psi_{32}}{2}} \\cos{\\left(\\frac{\\theta_{0}}{2} \\right)} \\cos{\\left(\\frac{\\theta_{21}}{2} \\right)} \\cos{\\left(\\frac{\\theta_{32}}{2} \\right)} - e^{- \\frac{i \\psi_{0}}{2}} e^{\\frac{i \\psi_{32}}{2}} \\sin{\\left(\\frac{\\theta_{0}}{2} \\right)} \\sin{\\left(\\frac{\\theta_{32}}{2} \\right)}\\right) e^{- \\frac{i \\psi_{0}}{2}} e^{- \\frac{i \\psi_{21}}{2}} e^{- i \\zeta} \\sin{\\left(\\frac{\\theta_{21}}{2} \\right)} \\cos{\\left(\\frac{\\theta_{0}}{2} \\right)}}{2}\\right) e^{- \\frac{i \\psi}{2}} e^{- \\frac{i {\\psi}'}{2}} \\cos{\\left(\\frac{\\theta}{2} \\right)} \\cos{\\left(\\frac{{\\theta}'}{2} \\right)} - \\left(\\mu_{3} + \\left(\\mu_{1} - \\mu_{3}\\right) \\sin^{2}{\\left(\\frac{\\theta_{21}}{2} \\right)} \\cos^{2}{\\left(\\frac{\\theta_{32}}{2} \\right)} + \\left(\\mu_{2} - \\mu_{3}\\right) \\left(- e^{i \\psi_{0}} e^{- \\frac{i \\psi_{21}}{2}} \\sin{\\left(\\frac{\\theta_{0}}{2} \\right)} \\sin{\\left(\\frac{\\theta_{32}}{2} \\right)} \\cos{\\left(\\frac{\\theta_{0}}{2} \\right)} \\cos{\\left(\\frac{\\theta_{21}}{2} \\right)} \\cos{\\left(\\frac{\\theta_{32}}{2} \\right)} + \\sin^{2}{\\left(\\frac{\\theta_{0}}{2} \\right)} \\sin^{2}{\\left(\\frac{\\theta_{32}}{2} \\right)} + \\cos^{2}{\\left(\\frac{\\theta_{0}}{2} \\right)} \\cos^{2}{\\left(\\frac{\\theta_{21}}{2} \\right)} \\cos^{2}{\\left(\\frac{\\theta_{32}}{2} \\right)} - e^{- i \\psi_{0}} e^{\\frac{i \\psi_{21}}{2}} \\sin{\\left(\\frac{\\theta_{0}}{2} \\right)} \\sin{\\left(\\frac{\\theta_{32}}{2} \\right)} \\cos{\\left(\\frac{\\theta_{0}}{2} \\right)} \\cos{\\left(\\frac{\\theta_{21}}{2} \\right)} \\cos{\\left(\\frac{\\theta_{32}}{2} \\right)}\\right)\\right) e^{- \\frac{i \\psi}{2}} e^{- \\frac{i {\\psi}'}{2}} \\sin{\\left(\\frac{{\\theta}'}{2} \\right)} \\cos{\\left(\\frac{\\theta}{2} \\right)}\\right) e^{\\frac{i \\psi}{2}} e^{\\frac{i {\\psi}'}{2}} \\sin{\\left(\\frac{{\\theta}'}{2} \\right)} \\cos{\\left(\\frac{\\theta}{2} \\right)} + \\left(- \\left(\\frac{\\sqrt{2} \\left(\\mu_{1} - \\mu_{3}\\right) \\sqrt{r + 1} e^{i \\psi_{21}} e^{- \\frac{i \\psi_{32}}{2}} \\sin{\\left(\\frac{\\theta_{21}}{2} \\right)} \\cos{\\left(\\frac{\\theta_{21}}{2} \\right)} \\cos{\\left(\\frac{\\theta_{32}}{2} \\right)}}{2} - \\frac{\\sqrt{2} \\left(\\mu_{2} - \\mu_{3}\\right) \\sqrt{r + 1} \\left(- e^{\\frac{i \\psi_{0}}{2}} e^{- \\frac{i \\psi_{32}}{2}} \\sin{\\left(\\frac{\\theta_{0}}{2} \\right)} \\sin{\\left(\\frac{\\theta_{32}}{2} \\right)} + e^{- \\frac{i \\psi_{0}}{2}} e^{\\frac{i \\psi_{21}}{2}} e^{- \\frac{i \\psi_{32}}{2}} \\cos{\\left(\\frac{\\theta_{0}}{2} \\right)} \\cos{\\left(\\frac{\\theta_{21}}{2} \\right)} \\cos{\\left(\\frac{\\theta_{32}}{2} \\right)}\\right) e^{\\frac{i \\psi_{0}}{2}} e^{\\frac{i \\psi_{21}}{2}} \\sin{\\left(\\frac{\\theta_{21}}{2} \\right)} \\cos{\\left(\\frac{\\theta_{0}}{2} \\right)}}{2}\\right) e^{- \\frac{i \\psi}{2}} e^{- \\frac{i {\\psi}'}{2}} \\sin{\\left(\\frac{{\\theta}'}{2} \\right)} \\cos{\\left(\\frac{\\theta}{2} \\right)} - \\left(\\frac{\\sqrt{2} \\left(\\mu_{1} - \\mu_{3}\\right) \\sqrt{r + 1} e^{i \\psi_{21}} e^{\\frac{i \\psi_{32}}{2}} \\sin{\\left(\\frac{\\theta_{21}}{2} \\right)} \\sin{\\left(\\frac{\\theta_{32}}{2} \\right)} \\cos{\\left(\\frac{\\theta_{21}}{2} \\right)}}{2} - \\frac{\\sqrt{2} \\left(\\mu_{2} - \\mu_{3}\\right) \\sqrt{r + 1} \\left(e^{\\frac{i \\psi_{0}}{2}} e^{\\frac{i \\psi_{32}}{2}} \\sin{\\left(\\frac{\\theta_{0}}{2} \\right)} \\cos{\\left(\\frac{\\theta_{32}}{2} \\right)} + e^{- \\frac{i \\psi_{0}}{2}} e^{\\frac{i \\psi_{21}}{2}} e^{\\frac{i \\psi_{32}}{2}} \\sin{\\left(\\frac{\\theta_{32}}{2} \\right)} \\cos{\\left(\\frac{\\theta_{0}}{2} \\right)} \\cos{\\left(\\frac{\\theta_{21}}{2} \\right)}\\right) e^{\\frac{i \\psi_{0}}{2}} e^{\\frac{i \\psi_{21}}{2}} \\sin{\\left(\\frac{\\theta_{21}}{2} \\right)} \\cos{\\left(\\frac{\\theta_{0}}{2} \\right)}}{2}\\right) e^{- \\frac{i \\psi}{2}} e^{- \\frac{i {\\psi}'}{2}} \\sin{\\left(\\frac{\\theta}{2} \\right)} \\cos{\\left(\\frac{{\\theta}'}{2} \\right)} + \\left(\\frac{\\sqrt{2} \\frac{\\sqrt{2} \\sqrt{r + 1}}{2} \\sqrt{1 - r} \\left(\\mu_{0} - \\mu_{3}\\right) e^{- i \\zeta}}{2} - \\frac{\\sqrt{1 - r} \\left(\\mu_{1} - \\mu_{3}\\right) \\sqrt{r + 1} e^{- i \\zeta} \\cos^{2}{\\left(\\frac{\\theta_{21}}{2} \\right)}}{2} - \\frac{\\sqrt{1 - r} \\left(\\mu_{2} - \\mu_{3}\\right) \\sqrt{r + 1} e^{- i \\zeta} \\sin^{2}{\\left(\\frac{\\theta_{21}}{2} \\right)} \\cos^{2}{\\left(\\frac{\\theta_{0}}{2} \\right)}}{2}\\right) e^{- \\frac{i \\psi}{2}} e^{- \\frac{i {\\psi}'}{2}} \\cos{\\left(\\frac{\\theta}{2} \\right)} \\cos{\\left(\\frac{{\\theta}'}{2} \\right)} + \\left(\\mu_{3} + \\frac{\\left(1 - r\\right) \\left(\\mu_{0} - \\mu_{3}\\right)}{2} + \\frac{\\left(\\mu_{1} - \\mu_{3}\\right) \\left(r + 1\\right) \\cos^{2}{\\left(\\frac{\\theta_{21}}{2} \\right)}}{2} + \\frac{\\left(\\mu_{2} - \\mu_{3}\\right) \\left(r + 1\\right) \\sin^{2}{\\left(\\frac{\\theta_{21}}{2} \\right)} \\cos^{2}{\\left(\\frac{\\theta_{0}}{2} \\right)}}{2}\\right) e^{- \\frac{i \\psi}{2}} e^{- \\frac{i {\\psi}'}{2}} \\sin{\\left(\\frac{\\theta}{2} \\right)} \\sin{\\left(\\frac{{\\theta}'}{2} \\right)}\\right) e^{\\frac{i \\psi}{2}} e^{\\frac{i {\\psi}'}{2}} \\sin{\\left(\\frac{\\theta}{2} \\right)} \\sin{\\left(\\frac{{\\theta}'}{2} \\right)} + \\left(- \\left(\\frac{\\sqrt{2} \\sqrt{1 - r} \\left(- \\mu_{1} + \\mu_{3}\\right) e^{i \\psi_{21}} e^{- \\frac{i \\psi_{32}}{2}} e^{i \\zeta} \\sin{\\left(\\frac{\\theta_{21}}{2} \\right)} \\cos{\\left(\\frac{\\theta_{21}}{2} \\right)} \\cos{\\left(\\frac{\\theta_{32}}{2} \\right)}}{2} + \\frac{\\sqrt{2} \\sqrt{1 - r} \\left(\\mu_{2} - \\mu_{3}\\right) \\left(- e^{\\frac{i \\psi_{0}}{2}} e^{- \\frac{i \\psi_{32}}{2}} \\sin{\\left(\\frac{\\theta_{0}}{2} \\right)} \\sin{\\left(\\frac{\\theta_{32}}{2} \\right)} + e^{- \\frac{i \\psi_{0}}{2}} e^{\\frac{i \\psi_{21}}{2}} e^{- \\frac{i \\psi_{32}}{2}} \\cos{\\left(\\frac{\\theta_{0}}{2} \\right)} \\cos{\\left(\\frac{\\theta_{21}}{2} \\right)} \\cos{\\left(\\frac{\\theta_{32}}{2} \\right)}\\right) e^{\\frac{i \\psi_{0}}{2}} e^{\\frac{i \\psi_{21}}{2}} e^{i \\zeta} \\sin{\\left(\\frac{\\theta_{21}}{2} \\right)} \\cos{\\left(\\frac{\\theta_{0}}{2} \\right)}}{2}\\right) e^{- \\frac{i \\psi}{2}} e^{- \\frac{i {\\psi}'}{2}} \\sin{\\left(\\frac{{\\theta}'}{2} \\right)} \\cos{\\left(\\frac{\\theta}{2} \\right)} - \\left(\\frac{\\sqrt{2} \\sqrt{1 - r} \\left(- \\mu_{1} + \\mu_{3}\\right) e^{i \\psi_{21}} e^{\\frac{i \\psi_{32}}{2}} e^{i \\zeta} \\sin{\\left(\\frac{\\theta_{21}}{2} \\right)} \\sin{\\left(\\frac{\\theta_{32}}{2} \\right)} \\cos{\\left(\\frac{\\theta_{21}}{2} \\right)}}{2} + \\frac{\\sqrt{2} \\sqrt{1 - r} \\left(\\mu_{2} - \\mu_{3}\\right) \\left(e^{\\frac{i \\psi_{0}}{2}} e^{\\frac{i \\psi_{32}}{2}} \\sin{\\left(\\frac{\\theta_{0}}{2} \\right)} \\cos{\\left(\\frac{\\theta_{32}}{2} \\right)} + e^{- \\frac{i \\psi_{0}}{2}} e^{\\frac{i \\psi_{21}}{2}} e^{\\frac{i \\psi_{32}}{2}} \\sin{\\left(\\frac{\\theta_{32}}{2} \\right)} \\cos{\\left(\\frac{\\theta_{0}}{2} \\right)} \\cos{\\left(\\frac{\\theta_{21}}{2} \\right)}\\right) e^{\\frac{i \\psi_{0}}{2}} e^{\\frac{i \\psi_{21}}{2}} e^{i \\zeta} \\sin{\\left(\\frac{\\theta_{21}}{2} \\right)} \\cos{\\left(\\frac{\\theta_{0}}{2} \\right)}}{2}\\right) e^{- \\frac{i \\psi}{2}} e^{- \\frac{i {\\psi}'}{2}} \\sin{\\left(\\frac{\\theta}{2} \\right)} \\cos{\\left(\\frac{{\\theta}'}{2} \\right)} + \\left(\\frac{\\sqrt{2} \\frac{\\sqrt{2} \\sqrt{r + 1}}{2} \\sqrt{1 - r} \\left(\\mu_{0} - \\mu_{3}\\right) e^{i \\zeta}}{2} - \\frac{\\sqrt{1 - r} \\left(\\mu_{1} - \\mu_{3}\\right) \\sqrt{r + 1} e^{i \\zeta} \\cos^{2}{\\left(\\frac{\\theta_{21}}{2} \\right)}}{2} - \\frac{\\sqrt{1 - r} \\left(\\mu_{2} - \\mu_{3}\\right) \\sqrt{r + 1} e^{i \\zeta} \\sin^{2}{\\left(\\frac{\\theta_{21}}{2} \\right)} \\cos^{2}{\\left(\\frac{\\theta_{0}}{2} \\right)}}{2}\\right) e^{- \\frac{i \\psi}{2}} e^{- \\frac{i {\\psi}'}{2}} \\sin{\\left(\\frac{\\theta}{2} \\right)} \\sin{\\left(\\frac{{\\theta}'}{2} \\right)} + \\left(\\mu_{3} + \\frac{\\left(1 - r\\right) \\left(\\mu_{1} - \\mu_{3}\\right) \\cos^{2}{\\left(\\frac{\\theta_{21}}{2} \\right)}}{2} + \\frac{\\left(1 - r\\right) \\left(\\mu_{2} - \\mu_{3}\\right) \\sin^{2}{\\left(\\frac{\\theta_{21}}{2} \\right)} \\cos^{2}{\\left(\\frac{\\theta_{0}}{2} \\right)}}{2} + \\frac{\\left(\\mu_{0} - \\mu_{3}\\right) \\left(r + 1\\right)}{2}\\right) e^{- \\frac{i \\psi}{2}} e^{- \\frac{i {\\psi}'}{2}} \\cos{\\left(\\frac{\\theta}{2} \\right)} \\cos{\\left(\\frac{{\\theta}'}{2} \\right)}\\right) e^{\\frac{i \\psi}{2}} e^{\\frac{i {\\psi}'}{2}} \\cos{\\left(\\frac{\\theta}{2} \\right)} \\cos{\\left(\\frac{{\\theta}'}{2} \\right)}\n"
     ]
    }
   ],
   "source": [
    "rho_prime = S*rho*Dagger(S)\n",
    "print(latex(rho_prime[0,0]))"
   ]
  },
  {
   "cell_type": "code",
   "execution_count": 21,
   "id": "2039875b-05e8-46f6-a853-1331f5e60e0e",
   "metadata": {},
   "outputs": [],
   "source": [
    "# as far as I can tell this code block does nothing at all\n",
    "\n",
    "from sympy.assumptions import global_assumptions\n",
    "global_assumptions.add(Q.ge(r,0))\n",
    "global_assumptions.add(Q.le(r,1))\n",
    "global_assumptions.add(Q.ge(mu0,0))\n",
    "global_assumptions.add(Q.le(mu0,1))\n",
    "global_assumptions.add(Q.ge(mu1,0))\n",
    "global_assumptions.add(Q.le(mu1,1))\n",
    "global_assumptions.add(Q.ge(mu2,0))\n",
    "global_assumptions.add(Q.le(mu2,1))\n",
    "global_assumptions.add(Q.ge(mu3,0))\n",
    "global_assumptions.add(Q.le(mu3,1))\n",
    "global_assumptions.add(Q.le(mu0+mu1+mu2+mu3,1))\n",
    "global_assumptions.add(Q.ge(zeta,0))\n",
    "global_assumptions.add(Q.lt(zeta,2*pi))\n",
    "global_assumptions.add(Q.ge(theta0,0))\n",
    "global_assumptions.add(Q.le(theta0,pi))\n",
    "global_assumptions.add(Q.ge(psi0,0))\n",
    "global_assumptions.add(Q.lt(psi0,2*pi))\n",
    "global_assumptions.add(Q.ge(theta21,0))\n",
    "global_assumptions.add(Q.le(theta21,pi))\n",
    "global_assumptions.add(Q.ge(psi21,0))\n",
    "global_assumptions.add(Q.lt(psi21,2*pi))\n",
    "global_assumptions.add(Q.ge(theta32,0))\n",
    "global_assumptions.add(Q.le(theta32,pi))\n",
    "global_assumptions.add(Q.ge(psi32,0))\n",
    "global_assumptions.add(Q.lt(psi32,2*pi))\n",
    "global_assumptions.add(Q.ge(theta,0))\n",
    "global_assumptions.add(Q.le(theta,pi))\n",
    "global_assumptions.add(Q.ge(psi,0))\n",
    "global_assumptions.add(Q.lt(psi,2*pi))\n",
    "global_assumptions.add(Q.ge(theta_prime,0))\n",
    "global_assumptions.add(Q.le(theta_prime,pi))\n",
    "global_assumptions.add(Q.ge(psi_prime,0))\n",
    "global_assumptions.add(Q.le(psi_prime,2*pi))\n",
    "global_assumptions.add(Q.hermitian(rho_prime))\n",
    "#global_assumptions"
   ]
  },
  {
   "cell_type": "code",
   "execution_count": 22,
   "id": "882f0790-3144-4916-9f97-93e73116eace",
   "metadata": {},
   "outputs": [],
   "source": [
    "def makeMatrix(*params):\n",
    "    # Mia Celeste stole my seat and wrote this function\n",
    "    order = [mu0, mu1, mu2, r, zeta, theta0, psi0, theta21, psi21, theta32, psi32, theta, psi, theta_prime, psi_prime]\n",
    "    assert len(order) == len(params)\n",
    "    return rho_prime.subs([(mu3, 1-mu0-mu1-mu2)]+[(order[i], params[i]) for i in range(len(order))])"
   ]
  },
  {
   "cell_type": "code",
   "execution_count": 23,
   "id": "aea0a43b-a8e3-4f78-a4a2-030ecc222787",
   "metadata": {},
   "outputs": [
    {
     "data": {
      "text/plain": [
       "True"
      ]
     },
     "execution_count": 23,
     "metadata": {},
     "output_type": "execute_result"
    }
   ],
   "source": [
    "mat = makeMatrix(1,0,0,.75,pi/2,0,0,0,0,0,0,pi/2,pi,pi/2,pi)\n",
    "#simplify(mat-mat**2)\n",
    "# mat\n",
    "#mat = makeMatrix(*([0]*15))\n",
    "makeMatrix(1,0,0,.75,pi/2,0,0,0,0,0,0,pi/2,pi,pi/2,pi)==makeMatrix(1,0,0,.75,pi/2,1,0,3,0,0,0,pi/2,pi,pi/2,pi)"
   ]
  },
  {
   "cell_type": "code",
   "execution_count": 24,
   "id": "6fa68b60-edc1-4770-9223-1869686ea136",
   "metadata": {},
   "outputs": [],
   "source": [
    "#out = nonlinsolve((rho_prime - mat).flat(), [mu0, mu1, mu2, r, zeta, theta0, psi0, theta21, psi21, theta32, psi32, theta, psi, theta_prime, psi_prime])\n",
    "#tr = trace(rho_prime*rho_prime)"
   ]
  },
  {
   "cell_type": "code",
   "execution_count": 25,
   "id": "1979fd93-05af-4a03-8df5-1b27e5764620",
   "metadata": {},
   "outputs": [],
   "source": [
    "#out = nonlinsolve([tr - 1], [mu0, mu1, mu2, r, zeta, theta0, psi0, theta21, psi21, theta32, psi32, theta, psi, theta_prime, psi_prime])"
   ]
  },
  {
   "cell_type": "code",
   "execution_count": 26,
   "id": "bbcd2917-baca-41a4-a75a-d58968c690b5",
   "metadata": {},
   "outputs": [],
   "source": [
    "# pure states are the subspace where mu0=1, mu1=mu2=mu3=0.\n",
    "# r, zeta, theta, psi, theta', and psi' are free (6D)\n",
    "# the other six angles are degenerate"
   ]
  },
  {
   "cell_type": "code",
   "execution_count": 27,
   "id": "64c6fc0a-d589-4b2b-b647-7363b7267e16",
   "metadata": {},
   "outputs": [],
   "source": [
    "# simp = simplify(trigsimp(simplify(rho_prime[0,0])))\n",
    "# simp"
   ]
  },
  {
   "cell_type": "code",
   "execution_count": 28,
   "id": "28df7f3e-22bc-4571-9f55-da25aefaf28a",
   "metadata": {},
   "outputs": [],
   "source": [
    "# y1, y2, y3, y4, y5, y6, y7, y8, y9, y10, y11, y12, y13, y14, y15 = symbols(\"y1 y2 y3 y4 y5 y6 y7 y8 y9 y10 y11 y12 y13 y14 y15\", real=True)"
   ]
  },
  {
   "cell_type": "code",
   "execution_count": 29,
   "id": "83e30435-2d66-497f-a74e-a9be962f2d30",
   "metadata": {},
   "outputs": [],
   "source": [
    "# y = Matrix([[y1, y2+i*y3,y4+i*y5,y6+i*y7],[y2-i*y3,y8,y9+i*y10,y11+i*y12],[y4-i*y5,y9-i*y10,y13,y14+i*y15],[y6-i*y7,y11-i*y12,y14-i*y15,y16]])"
   ]
  },
  {
   "cell_type": "code",
   "execution_count": 30,
   "id": "06bc0f37-0c9d-4160-a297-9ddc32c0178f",
   "metadata": {},
   "outputs": [],
   "source": [
    "# y"
   ]
  },
  {
   "cell_type": "code",
   "execution_count": 31,
   "id": "7441994c-04f2-469b-bf5d-2d6436ed669e",
   "metadata": {},
   "outputs": [],
   "source": [
    "# Dagger(y)"
   ]
  },
  {
   "cell_type": "code",
   "execution_count": 32,
   "id": "4679ca58-c6f6-4171-b25f-059f201f7998",
   "metadata": {},
   "outputs": [],
   "source": [
    "# e = y.eigenvals()\n",
    "# e"
   ]
  },
  {
   "cell_type": "code",
   "execution_count": null,
   "id": "0f5ecef5-239e-4174-b9cd-9cd1f1c9176b",
   "metadata": {},
   "outputs": [],
   "source": []
  }
 ],
 "metadata": {
  "kernelspec": {
   "display_name": "Python 3 (ipykernel)",
   "language": "python",
   "name": "python3"
  },
  "language_info": {
   "codemirror_mode": {
    "name": "ipython",
    "version": 3
   },
   "file_extension": ".py",
   "mimetype": "text/x-python",
   "name": "python",
   "nbconvert_exporter": "python",
   "pygments_lexer": "ipython3",
   "version": "3.8.10"
  }
 },
 "nbformat": 4,
 "nbformat_minor": 5
}
