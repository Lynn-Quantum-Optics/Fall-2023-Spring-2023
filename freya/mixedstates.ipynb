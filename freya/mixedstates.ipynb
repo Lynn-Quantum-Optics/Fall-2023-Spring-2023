{
 "cells": [
  {
   "cell_type": "code",
   "execution_count": 1,
   "id": "de798b54-cc92-4a72-9ba7-97dfcc16570e",
   "metadata": {
    "ExecuteTime": {
     "end_time": "2024-03-04T01:26:55.748491700Z",
     "start_time": "2024-03-04T01:26:55.264345100Z"
    }
   },
   "outputs": [],
   "source": [
    "# This is my main NumPy implementation of the density matrix generation code. It should be noted that it probably does not give a \n",
    "# distribution of states that is uniform in any useful way.\n",
    "\n",
    "import matplotlib.pyplot as plt\n",
    "import numpy as np"
   ]
  },
  {
   "cell_type": "code",
   "execution_count": 2,
   "id": "1145782d-62f4-4efe-9d0f-fdf67c9c6baf",
   "metadata": {
    "jupyter": {
     "source_hidden": true
    },
    "ExecuteTime": {
     "end_time": "2024-03-04T01:26:56.030117900Z",
     "start_time": "2024-03-04T01:26:55.754493800Z"
    }
   },
   "outputs": [],
   "source": [
    "import dataclasses\n",
    "\n",
    "\n",
    "@dataclasses.dataclass\n",
    "class Params:\n",
    "    mu0: float\n",
    "    mu1: float\n",
    "    mu2: float\n",
    "    r: float\n",
    "    zeta: float\n",
    "    theta: float\n",
    "    psi: float\n",
    "    theta_prime: float\n",
    "    psi_prime: float\n",
    "    theta32: float\n",
    "    psi32: float\n",
    "    theta21: float\n",
    "    psi21: float\n",
    "    theta0: float\n",
    "    psi0: float\n",
    "\n",
    "    @property\n",
    "    def mu3(self):\n",
    "        return 1 - self.mu0 - self.mu1 - self.mu2"
   ]
  },
  {
   "cell_type": "code",
   "execution_count": 3,
   "id": "277c7c21-0798-4dfd-b563-d60e99f2d296",
   "metadata": {
    "jupyter": {
     "source_hidden": true
    },
    "ExecuteTime": {
     "end_time": "2024-03-04T01:26:56.593676600Z",
     "start_time": "2024-03-04T01:26:56.313630500Z"
    }
   },
   "outputs": [],
   "source": [
    "def sample_params(samps):\n",
    "    # These distributions are verified to work for pure states\n",
    "    \n",
    "    unif = np.random.uniform\n",
    "    \n",
    "    _theta = np.arccos(unif(-1, 1, samps))\n",
    "    _psi = unif(0, 2 * np.pi, samps)\n",
    "    _theta_prime = np.arccos(unif(-1, 1, samps))\n",
    "    _psi_prime = unif(0, 2 * np.pi, samps)\n",
    "    _r = np.cbrt(unif(0, 1, samps))\n",
    "    _zeta = unif(0, 2 * np.pi, samps)\n",
    "\n",
    "    # what follows is purely a guess\n",
    "    mu = np.random.dirichlet(np.ones(4), samps)  # sample mu's uniformly from the random simplex\n",
    "    _theta32 = np.arccos(unif(-1, 1, samps))  # sample thetas and psis as for pure states\n",
    "    _psi32 = unif(0, 2 * np.pi, samps)\n",
    "    _theta21 = np.arccos(unif(-1, 1, samps))\n",
    "    _psi21 = unif(0, 2 * np.pi, samps)\n",
    "    _theta0 = np.arccos(unif(-1, 1, samps))\n",
    "    _psi0 = unif(0, 2 * np.pi, samps)\n",
    "\n",
    "    return Params(mu0=mu[:, 0], mu1=mu[:, 1], mu2=mu[:, 2], r=_r, zeta=_zeta, theta=_theta, psi=_psi,\n",
    "                  theta_prime=_theta_prime, psi_prime=_psi_prime, theta32=_theta32, psi32=_psi32, theta21=_theta21,\n",
    "                  psi21=_psi21, theta0=_theta0, psi0=_psi0, )"
   ]
  },
  {
   "cell_type": "code",
   "outputs": [],
   "source": [
    "def sample_pure(samps):\n",
    "    unif = np.random.uniform\n",
    "    \n",
    "    _theta = np.arccos(unif(-1, 1, samps))\n",
    "    _psi = unif(0, 2 * np.pi, samps)\n",
    "    _theta_prime = np.arccos(unif(-1, 1, samps))\n",
    "    _psi_prime = unif(0, 2 * np.pi, samps)\n",
    "    _r = np.cbrt(unif(0, 1, samps))\n",
    "    _zeta = unif(0, 2 * np.pi, samps)\n",
    "    \n",
    "    zero = np.zeros(samps)\n",
    "    _mu0 = np.ones(samps)\n",
    "\n",
    "    return Params(mu0=_mu0, mu1=zero, mu2=zero, r=_r, zeta=_zeta, theta=_theta, psi=_psi,\n",
    "                  theta_prime=_theta_prime, psi_prime=_psi_prime, theta32=zero, psi32=zero, theta21=zero,\n",
    "                  psi21=zero, theta0=zero, psi0=zero, )"
   ],
   "metadata": {
    "collapsed": false,
    "ExecuteTime": {
     "end_time": "2024-03-04T01:26:57.793250600Z",
     "start_time": "2024-03-04T01:26:57.576735500Z"
    }
   },
   "id": "9e567f3c733ee6b6",
   "execution_count": 4
  },
  {
   "cell_type": "code",
   "execution_count": 5,
   "id": "005871a7-e6e4-4a86-a5b9-b3014dab12eb",
   "metadata": {
    "jupyter": {
     "source_hidden": true
    },
    "ExecuteTime": {
     "end_time": "2024-03-04T01:26:59.417570900Z",
     "start_time": "2024-03-04T01:26:59.138410700Z"
    }
   },
   "outputs": [],
   "source": [
    "def make_cs(theta, psi):\n",
    "    return np.exp(-1j * psi / 2) * np.cos(theta / 2), np.exp(1j * psi / 2) * np.sin(theta / 2)\n",
    "\n",
    "\n",
    "def make_s_mat(theta, psi, theta_prime, psi_prime):\n",
    "    c, s = make_cs(theta, psi)\n",
    "    c_prime, s_prime = make_cs(theta_prime, psi_prime)\n",
    "\n",
    "    conj = np.conjugate\n",
    "\n",
    "    return np.array([\n",
    "                    [c * c_prime, conj(s) * conj(s_prime),\n",
    "                     -c * conj(s_prime), -(conj(s)) * c_prime, ],\n",
    "            \n",
    "                    [c * s_prime, -(conj(s)) * conj(c_prime),\n",
    "                     c * conj(c_prime), -(conj(s)) * s_prime, ],\n",
    "            \n",
    "                    [s * c_prime, -(conj(c)) * conj(s_prime),\n",
    "                     -s * conj(s_prime), conj(c) * c_prime, ],\n",
    "            \n",
    "                    [s * s_prime, conj(c) * conj(c_prime),\n",
    "                     s * conj(c_prime), conj(c) * s_prime, ], ]).transpose((2, 0, 1))\n",
    "    # Each parameter is a 1D array, so the output is a 3D array consisting of a 2D array (matrix) whose elements are lists.\n",
    "    # The transpose operation restructures the 3D output array so it is a list of matrices instead"
   ]
  },
  {
   "cell_type": "code",
   "execution_count": 6,
   "id": "a8b208ac-aa4f-45a7-a187-9065618a993e",
   "metadata": {
    "jupyter": {
     "source_hidden": true
    },
    "ExecuteTime": {
     "end_time": "2024-03-04T01:27:01.263369Z",
     "start_time": "2024-03-04T01:27:00.971354500Z"
    }
   },
   "outputs": [],
   "source": [
    "def make_rho_mat(params):\n",
    "    q_plus = np.sqrt((1 + params.r) / 2)\n",
    "    q_minus = np.sqrt((1 - params.r) / 2)\n",
    "\n",
    "    c32, s32 = make_cs(params.theta32, params.psi32)\n",
    "    c21, s21 = make_cs(params.theta21, params.psi21)\n",
    "    c0, s0 = make_cs(params.theta0, params.psi0)\n",
    "\n",
    "    conj = np.conjugate\n",
    "    abs = np.absolute\n",
    "\n",
    "    rho00 = ((params.mu0 - params.mu3) * q_plus ** 2 + (params.mu1 - params.mu3) * q_minus ** 2 * abs(c21) ** 2\n",
    "             + (params.mu2 - params.mu3) * q_minus ** 2 * abs(c0) ** 2 * abs(s21) ** 2 + params.mu3)\n",
    "\n",
    "    rho01 = ((params.mu0 - params.mu3) * np.exp(-1j * params.zeta) * q_minus * q_plus\n",
    "             - (params.mu1 - params.mu3) * np.exp(-1j * params.zeta) * q_minus * q_plus * abs(c21) ** 2\n",
    "             - (params.mu2 - params.mu3) * np.exp(-1j * params.zeta) * q_plus * q_minus * abs(c0) ** 2 * abs(s21) ** 2)\n",
    "\n",
    "    rho02 = (-(params.mu1 - params.mu3) * np.exp(-1j * params.zeta) * q_minus * c21 * conj(c32) * conj(s21)\n",
    "             + (params.mu2 - params.mu3) * np.exp(-1j * params.zeta) * q_minus * c0 * conj(s21) * (\n",
    "                     conj(c0) * c21 * conj(c32) - conj(s0) * s32))\n",
    "\n",
    "    rho03 = (-(params.mu1 - params.mu3) * np.exp(-1j * params.zeta) * q_minus * c21 * conj(s32) * conj(s21)\n",
    "             + (params.mu2 - params.mu3) * np.exp(-1j * params.zeta) * q_minus * c0 * conj(s21) * (\n",
    "                     conj(c0) * c21 * conj(s32) + conj(s0) * c32))\n",
    "\n",
    "    rho10 = ((params.mu0 - params.mu3) * np.exp(1j * params.zeta) * q_minus * q_plus\n",
    "             - (params.mu1 - params.mu3) * np.exp(1j * params.zeta) * q_minus * q_plus * abs(c21) ** 2\n",
    "             - (params.mu2 - params.mu3) * np.exp(1j * params.zeta) * q_minus * q_plus * abs(c0) ** 2 * abs(s21) ** 2)\n",
    "\n",
    "    rho11 = ((params.mu0 - params.mu3) * q_minus ** 2 + (params.mu1 - params.mu3) * q_plus ** 2 * abs(c21) ** 2\n",
    "             + (params.mu2 - params.mu3) * q_plus ** 2 * abs(c0) ** 2 * abs(s21) ** 2 + params.mu3)\n",
    "\n",
    "    rho12 = ((params.mu1 - params.mu3) * q_plus * c21 * conj(c32) * conj(s21)\n",
    "             - (params.mu2 - params.mu3) * q_plus * c0 * conj(s21) * (\n",
    "                     conj(c0) * c21 * conj(c32) - conj(s0) * s32))\n",
    "\n",
    "    rho13 = ((params.mu1 - params.mu3) * q_plus * c21 * conj(s32) * conj(s21)\n",
    "             - (params.mu2 - params.mu3) * q_plus * c0 * conj(s21) * (\n",
    "                     conj(c0) * c21 * conj(s32) + conj(s0) * c32))\n",
    "\n",
    "    rho20 = (-(params.mu1 - params.mu3) * np.exp(1j * params.zeta) * q_minus * conj(c21) * c32 * s21\n",
    "             + (params.mu2 - params.mu3) * np.exp(1j * params.zeta) * q_minus * conj(c0) * s21 * (\n",
    "                     c0 * conj(c21) * c32 - s0 * conj(s32)))\n",
    "\n",
    "    rho21 = ((params.mu1 - params.mu3) * q_plus * conj(c21) * c32 * s21\n",
    "             - (params.mu2 - params.mu3) * q_plus * conj(c0) * s21 * (c0 * conj(c21) * c32 - s0 * conj(s32)))\n",
    "\n",
    "    rho22 = ((params.mu1 - params.mu3) * abs(c32) ** 2 * abs(s21) ** 2\n",
    "             + (params.mu2 - params.mu3) * abs(c0 * conj(c21) * c32 - s0 * conj(s32)) ** 2 + params.mu3)\n",
    "\n",
    "    rho23 = ((params.mu1 - params.mu3) * abs(s21) ** 2 * c32 * conj(s32) + (params.mu2 - params.mu3) * (\n",
    "            conj(c0) * c21 * conj(s32) + conj(s0) * c32) * (\n",
    "                     c0 * conj(c21) * c32 - s0 * conj(s32)))\n",
    "\n",
    "    rho30 = (-(params.mu1 - params.mu3) * np.exp(1j * params.zeta) * q_minus * conj(c21) * s32 * s21\n",
    "             + (params.mu2 - params.mu3) * np.exp(1j * params.zeta) * q_minus * conj(c0) * s21 * (\n",
    "                     c0 * conj(c21) * s32 + s0 * conj(c32)))\n",
    "\n",
    "    rho31 = ((params.mu1 - params.mu3) * q_plus * conj(c21) * s32 * s21\n",
    "             - (params.mu2 - params.mu3) * q_plus * conj(c0) * s21 * (c0 * conj(c21) * s32 + s0 * conj(c32)))\n",
    "\n",
    "    rho32 = ((params.mu1 - params.mu3) * abs(s21) ** 2 * conj(c32) * s32\n",
    "             + (params.mu2 - params.mu3) * (c0 * conj(c21) * s32 + s0 * conj(c32)) * (\n",
    "                     conj(c0) * c21 * conj(c32) - conj(s0) * s32))\n",
    "\n",
    "    rho33 = ((params.mu1 - params.mu3) * abs(s21) ** 2 * abs(s32) ** 2\n",
    "             + (params.mu2 - params.mu3) * abs(c0 * conj(c21) * s32 + s0 * conj(c32)) ** 2 + params.mu3)\n",
    "\n",
    "    return np.array([[rho00, rho01, rho02, rho03], [rho10, rho11, rho12, rho13],\n",
    "                     [rho20, rho21, rho22, rho23], [rho30, rho31, rho32, rho33], ]).transpose((2, 0, 1))\n",
    "    # Each parameter is a 1D array, so the output is a 3D array consisting of a 2D array (matrix) whose elements are lists.\n",
    "    # The transpose operation restructures the 3D output array so it is a list of matrices instead"
   ]
  },
  {
   "cell_type": "code",
   "execution_count": 7,
   "id": "1172e856-2c90-44b9-9a9d-c0324018a604",
   "metadata": {
    "ExecuteTime": {
     "end_time": "2024-03-04T01:27:04.490656100Z",
     "start_time": "2024-03-04T01:27:04.212112700Z"
    }
   },
   "outputs": [],
   "source": [
    "def make_rho_prime_mat(params):\n",
    "    s_mat = make_s_mat(params.theta, params.psi, params.theta_prime, params.psi_prime)\n",
    "    rho = make_rho_mat(params)\n",
    "    s_dagger = np.conjugate(s_mat.transpose((0, 2, 1)))  # This one is just an actual transpose of each matrix in the list\n",
    "    return np.matmul(s_mat, np.matmul(rho, s_dagger))"
   ]
  },
  {
   "cell_type": "code",
   "execution_count": 10,
   "id": "f6a51c14-1c16-40ab-9a7f-e4c13adad5c8",
   "metadata": {
    "jupyter": {
     "source_hidden": true
    },
    "ExecuteTime": {
     "end_time": "2024-03-04T01:38:00.826378200Z",
     "start_time": "2024-03-04T01:38:00.519866700Z"
    }
   },
   "outputs": [
    {
     "data": {
      "text/plain": "array([[[ 0.31527774+2.54109884e-21j,  0.01216335-9.18240721e-02j,\n          0.02423271-7.52546547e-02j,  0.03021712+2.28857079e-02j],\n        [ 0.01216335+9.18240721e-02j,  0.26396039-6.35274710e-21j,\n          0.04198577+4.85660284e-02j, -0.05128625+1.08831119e-01j],\n        [ 0.02423271+7.52546547e-02j,  0.04198577-4.85660284e-02j,\n          0.27443885+1.27054942e-21j, -0.00552253+9.85164780e-02j],\n        [ 0.03021712-2.28857079e-02j, -0.05128625-1.08831119e-01j,\n         -0.00552253-9.85164780e-02j,  0.14632302-1.27054942e-21j]],\n\n       [[ 0.23730269+2.54109884e-21j, -0.03113797-4.17596996e-02j,\n         -0.07501871-7.11876747e-03j, -0.0376405 -5.29239301e-02j],\n        [-0.03113797+4.17596996e-02j,  0.32409731+9.31736242e-21j,\n          0.05490746+1.05341589e-01j,  0.07215979+8.28041517e-02j],\n        [-0.07501871+7.11876747e-03j,  0.05490746-1.05341589e-01j,\n          0.09518626-8.47032947e-22j,  0.01822409-6.48878484e-02j],\n        [-0.0376405 +5.29239301e-02j,  0.07215979-8.28041517e-02j,\n          0.01822409+6.48878484e-02j,  0.34341374-1.35525272e-20j]]],\n      dtype=complex256)"
     },
     "execution_count": 10,
     "metadata": {},
     "output_type": "execute_result"
    }
   ],
   "source": [
    "### unit test (as in, one of them) ###\n",
    "\n",
    "p = Params(\n",
    "    mu0=np.array([0.5,0.5], dtype=\"complex256\"),\n",
    "    mu1=np.array([0.25,0.25], dtype=\"complex256\"),\n",
    "    mu2=np.array([.2,0.25], dtype=\"complex256\"),\n",
    "    r=np.array([0.25,.75], dtype=\"complex256\"),\n",
    "    zeta=np.array([np.pi, 3*np.pi/2], dtype=\"complex256\"),\n",
    "    theta=np.array([np.pi / 5, np.pi/2], dtype=\"complex256\"),\n",
    "    psi=np.array([np.pi / 3, 11*np.pi/6], dtype=\"complex256\"),\n",
    "    theta_prime=np.array([np.pi / 3, 7*np.pi/8], dtype=\"complex256\"),\n",
    "    psi_prime=np.array([np.pi / 2, 13*np.pi/24], dtype=\"complex256\"),\n",
    "    theta0=np.array([3 * np.pi / 2, 7*np.pi/6], dtype=\"complex256\"),\n",
    "    psi0=np.array([np.pi / 2, 0], dtype=\"complex256\"),\n",
    "    theta21=np.array([np.pi / 2, np.pi/3], dtype=\"complex256\"),\n",
    "    psi21=np.array([0, 5*np.pi/4], dtype=\"complex256\"),\n",
    "    theta32=np.array([np.pi / 2, np.pi/7], dtype=\"complex256\"),\n",
    "    psi32=np.array([3 * np.pi / 2, np.pi], dtype=\"complex256\"),\n",
    ")\n",
    "rho_prime = make_rho_prime_mat(p)\n",
    "rho_prime"
   ]
  },
  {
   "cell_type": "code",
   "outputs": [
    {
     "data": {
      "text/plain": "(1000000, 4, 4)"
     },
     "execution_count": 8,
     "metadata": {},
     "output_type": "execute_result"
    }
   ],
   "source": [
    "rho_prime = make_rho_prime_mat(sample_params(1000000))\n",
    "#rho_prime = make_rho_prime_mat(sample_pure(1000000))\n",
    "# tr = rho_prime.trace(axis1=1, axis2=2)\n",
    "# h = rho_prime - np.conjugate(rho_prime.transpose((0,2,1)))\n",
    "# rho_prime_sq = np.matmul(rho_prime, rho_prime)\n",
    "# pur = rho_prime_sq.trace(axis1=1, axis2=2)"
   ],
   "metadata": {
    "collapsed": false,
    "ExecuteTime": {
     "end_time": "2024-03-04T01:27:15.029686800Z",
     "start_time": "2024-03-04T01:27:11.666130900Z"
    }
   },
   "id": "ada56361b8b75738",
   "execution_count": 8
  },
  {
   "cell_type": "code",
   "outputs": [],
   "source": [
    "def clean_mat(mat, n):\n",
    "    #this function probably takes longer to run than it's worth ¯\\_(ツ)_/¯\n",
    "    error_array = np.full(mat.shape, 10**(-n))\n",
    "    output = np.where((np.abs(np.imag(mat)) < error_array), np.real(mat), mat)\n",
    "    return np.where(((np.abs(np.real(output)) < error_array) & (np.abs(np.imag(output) < error_array))), np.zeros(output.shape), output)"
   ],
   "metadata": {
    "collapsed": false,
    "ExecuteTime": {
     "end_time": "2024-02-16T02:37:34.408621Z",
     "start_time": "2024-02-16T02:37:34.346757900Z"
    }
   },
   "id": "fdd5bd07936a2bda",
   "execution_count": 42
  },
  {
   "cell_type": "code",
   "execution_count": 39,
   "id": "fa989054-f154-48a7-a361-ee19cc9e7712",
   "metadata": {
    "ExecuteTime": {
     "end_time": "2024-01-31T05:29:32.988552300Z",
     "start_time": "2024-01-31T05:29:32.942557100Z"
    }
   },
   "outputs": [],
   "source": [
    "# %timeit make_rho_prime_mat(sample_params(1000000))\n",
    "# %timeit rho_prime = make_rho_prime_mat(sample_pure(1000000))"
   ]
  },
  {
   "cell_type": "code",
   "outputs": [
    {
     "data": {
      "text/plain": "array([0.+3.37186876e-17j, 0.+1.08420217e-19j, 0.+1.59377719e-17j, ...,\n       0.-4.11996826e-17j, 0.+1.32272665e-17j, 0.+3.03576608e-18j])"
     },
     "execution_count": 50,
     "metadata": {},
     "output_type": "execute_result"
    }
   ],
   "source": [
    "rho2 = np.matmul(rho_prime,rho_prime)\n",
    "np.trace(rho2,axis1=1,axis2=2) - np.trace(clean_mat(rho2, 10),axis1=1,axis2=2)"
   ],
   "metadata": {
    "collapsed": false
   },
   "id": "84ae4a4e7b3fe6b3",
   "execution_count": 50
  },
  {
   "cell_type": "code",
   "outputs": [
    {
     "data": {
      "text/plain": "((0.2500026951498306+0j), (0.9859370403758216+0j), (0.40009727589280936+0j))"
     },
     "execution_count": 44,
     "metadata": {},
     "output_type": "execute_result"
    },
    {
     "data": {
      "text/plain": "<Figure size 640x480 with 1 Axes>",
      "image/png": "[encoded data removed]"
     },
     "metadata": {},
     "output_type": "display_data"
    }
   ],
   "source": [
    "pur = np.trace(clean_mat(np.matmul(rho_prime,rho_prime),8),axis1=1,axis2=2)\n",
    "plt.hist(pur, bins=5000)\n",
    "min(pur), max(pur), np.mean(pur)\n",
    "#minimum purity should be 1/d where d is the dimension of the Hilbert space (here d=4)"
   ],
   "metadata": {
    "collapsed": false,
    "ExecuteTime": {
     "end_time": "2024-02-16T02:38:05.215428700Z",
     "start_time": "2024-02-16T02:37:52.444884Z"
    }
   },
   "id": "8db9f1ad047368b1",
   "execution_count": 44
  },
  {
   "cell_type": "code",
   "outputs": [],
   "source": [
    "np.real_if_close(np.linalg.det(rho_prime))\n",
    "#np.where(abs(rho_prime - np.zeros(rho_prime.shape)))"
   ],
   "metadata": {
    "collapsed": false
   },
   "id": "d2d65978d8855d1e",
   "execution_count": 0
  }
 ],
 "metadata": {
  "kernelspec": {
   "display_name": "Python 3 (ipykernel)",
   "language": "python",
   "name": "python3"
  },
  "language_info": {
   "codemirror_mode": {
    "name": "ipython",
    "version": 3
   },
   "file_extension": ".py",
   "mimetype": "text/x-python",
   "name": "python",
   "nbconvert_exporter": "python",
   "pygments_lexer": "ipython3",
   "version": "3.8.10"
  }
 },
 "nbformat": 4,
 "nbformat_minor": 5
}
