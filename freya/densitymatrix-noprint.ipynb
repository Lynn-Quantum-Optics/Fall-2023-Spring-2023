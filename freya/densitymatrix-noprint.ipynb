{
 "cells": [
  {
   "cell_type": "code",
   "execution_count": 1,
   "id": "f53431ae-b485-4233-9162-a459e2d12ff6",
   "metadata": {},
   "outputs": [],
   "source": [
    "# Same as densitymatrix.ipynb except that it has almost all the prints taken out, so it runs much faster.\n",
    "# I was a really lazy programmer at this point.\n",
    "\n",
    "from sympy import *\n",
    "from sympy.physics.quantum.dagger import Dagger\n",
    "\n",
    "i = I\n",
    "conj = conjugate"
   ]
  },
  {
   "cell_type": "code",
   "execution_count": 2,
   "id": "c81d11c9-9db0-4b29-bca5-ff4166af4f84",
   "metadata": {},
   "outputs": [],
   "source": [
    "mu0, mu1, mu2, mu3, q_plus, q_minus, r, zeta = symbols(\n",
    "    \"mu0 mu1 mu2 mu3 q_+ q_- r zeta\", real=True\n",
    ")\n",
    "(\n",
    "    theta0,\n",
    "    psi0,\n",
    "    theta21,\n",
    "    psi21,\n",
    "    theta32,\n",
    "    psi32,\n",
    "    theta,\n",
    "    psi,\n",
    "    theta_prime,\n",
    "    psi_prime,\n",
    ") = symbols(\n",
    "    \"theta0 psi0 theta21 psi21 theta32 psi32 theta psi thetaprime psiprime\", real=True\n",
    ")\n",
    "rho, rho_prime = symbols(\"rho rhoprime\")\n",
    "c0, s0, c21, s21, c32, s32, c, s, c_prime, s_prime = symbols(\n",
    "    \"c0 s0 c21 s21 c32 s32 c s cprime sprime\"\n",
    ")"
   ]
  },
  {
   "cell_type": "code",
   "execution_count": 3,
   "id": "278b8d51-cef5-4ce2-99cd-6506b4199897",
   "metadata": {},
   "outputs": [],
   "source": [
    "c0 = exp(-i * psi0 / 2) * cos(theta0 / 2)"
   ]
  },
  {
   "cell_type": "code",
   "execution_count": 4,
   "id": "451d6937-2665-41e0-8eb6-5e9eda77a779",
   "metadata": {},
   "outputs": [],
   "source": [
    "s0 = exp(i * psi0 / 2) * sin(theta0 / 2)"
   ]
  },
  {
   "cell_type": "code",
   "execution_count": 5,
   "id": "76efb3d5-c94d-44fa-9af5-ac05f97521e6",
   "metadata": {},
   "outputs": [],
   "source": [
    "c21 = exp(-i * psi21 / 2) * cos(theta21 / 2)"
   ]
  },
  {
   "cell_type": "code",
   "execution_count": 6,
   "id": "ef4fd0f8-a7e0-4197-82ce-b0a4d3edd7fe",
   "metadata": {},
   "outputs": [],
   "source": [
    "s21 = exp(i * psi21 / 2) * sin(theta21 / 2)"
   ]
  },
  {
   "cell_type": "code",
   "execution_count": 7,
   "id": "004539fc-b982-41a0-bbb2-98ff996915f7",
   "metadata": {},
   "outputs": [],
   "source": [
    "c32 = exp(-i * psi32 / 2) * cos(theta32 / 2)"
   ]
  },
  {
   "cell_type": "code",
   "execution_count": 8,
   "id": "5b7d7636-6ba1-4887-9df9-eacf9d26ac90",
   "metadata": {},
   "outputs": [],
   "source": [
    "s32 = exp(i * psi32 / 2) * sin(theta32 / 2)"
   ]
  },
  {
   "cell_type": "code",
   "execution_count": 9,
   "id": "1e46adaa-6578-4041-a208-dca4a6ca50af",
   "metadata": {},
   "outputs": [],
   "source": [
    "c = exp(-i * psi / 2) * cos(theta / 2)"
   ]
  },
  {
   "cell_type": "code",
   "execution_count": 10,
   "id": "4437d8df-80af-4a32-9f72-d3644241c8ce",
   "metadata": {},
   "outputs": [],
   "source": [
    "s = exp(i * psi / 2) * sin(theta / 2)"
   ]
  },
  {
   "cell_type": "code",
   "execution_count": 11,
   "id": "35ef16ea-5fcc-4aa1-adc0-ff783de5e021",
   "metadata": {},
   "outputs": [],
   "source": [
    "c_prime = exp(-i * psi_prime / 2) * cos(theta_prime / 2)"
   ]
  },
  {
   "cell_type": "code",
   "execution_count": 12,
   "id": "4012dc42-ce13-49e9-b919-6a4c63a439e4",
   "metadata": {},
   "outputs": [],
   "source": [
    "s_prime = exp(i * psi_prime / 2) * sin(theta_prime / 2)"
   ]
  },
  {
   "cell_type": "code",
   "execution_count": 13,
   "id": "a1d18c3b-3980-4f43-af2f-afbb4b21991e",
   "metadata": {},
   "outputs": [],
   "source": [
    "# mu3 = 1 - mu0 - mu1 - mu2"
   ]
  },
  {
   "cell_type": "code",
   "execution_count": 14,
   "id": "5a5e1adf-dbe3-4041-96ee-d79e26aa0252",
   "metadata": {},
   "outputs": [],
   "source": [
    "q_plus = sqrt((1 + r) / 2)"
   ]
  },
  {
   "cell_type": "code",
   "execution_count": 15,
   "id": "c2da60a1-be0b-4ee6-9c83-407f44c8c688",
   "metadata": {},
   "outputs": [],
   "source": [
    "q_minus = sqrt((1 - r) / 2)"
   ]
  },
  {
   "cell_type": "code",
   "execution_count": 16,
   "id": "aef0f0ef-c0db-49c8-bbf0-44d3492422b5",
   "metadata": {},
   "outputs": [],
   "source": [
    "rho = Matrix(\n",
    "    [\n",
    "        [\n",
    "            (mu0 - mu3) * q_plus**2\n",
    "            + (mu1 - mu3) * q_minus**2 * Abs(c21) ** 2\n",
    "            + (mu2 - mu3) * q_minus**2 * Abs(c0) ** 2 * Abs(s21) ** 2\n",
    "            + mu3,\n",
    "            (mu0 - mu3) * exp(-i * zeta) * q_minus * q_plus\n",
    "            - (mu1 - mu3) * exp(-i * zeta) * q_minus * q_plus * Abs(c21) ** 2\n",
    "            - (mu2 - mu3)\n",
    "            * exp(-i * zeta)\n",
    "            * q_plus\n",
    "            * q_minus\n",
    "            * Abs(c0) ** 2\n",
    "            * Abs(s21) ** 2,\n",
    "            -(mu1 - mu3) * exp(-i * zeta) * q_minus * c21 * conj(c32) * conj(s21)\n",
    "            + (mu2 - mu3)\n",
    "            * exp(-i * zeta)\n",
    "            * q_minus\n",
    "            * c0\n",
    "            * conj(s21)\n",
    "            * (conj(c0) * c21 * conj(c32) - conj(s0) * s32),\n",
    "            -(mu1 - mu3) * exp(-i * zeta) * q_minus * c21 * conj(s32) * conj(s21)\n",
    "            + (mu2 - mu3)\n",
    "            * exp(-i * zeta)\n",
    "            * q_minus\n",
    "            * c0\n",
    "            * conj(s21)\n",
    "            * (conj(c0) * c21 * conj(s32) + conj(s0) * c32),\n",
    "        ],\n",
    "        [\n",
    "            (mu0 - mu3) * exp(i * zeta) * q_minus * q_plus\n",
    "            - (mu1 - mu3) * exp(i * zeta) * q_minus * q_plus * Abs(c21) ** 2\n",
    "            - (mu2 - mu3)\n",
    "            * exp(i * zeta)\n",
    "            * q_minus\n",
    "            * q_plus\n",
    "            * Abs(c0) ** 2\n",
    "            * Abs(s21) ** 2,\n",
    "            (mu0 - mu3) * q_minus**2\n",
    "            + (mu1 - mu3) * q_plus**2 * Abs(c21) ** 2\n",
    "            + (mu2 - mu3) * q_plus**2 * Abs(c0) ** 2 * Abs(s21) ** 2\n",
    "            + mu3,\n",
    "            (mu1 - mu3) * q_plus * c21 * conj(c32) * conj(s21)\n",
    "            - (mu2 - mu3)\n",
    "            * q_plus\n",
    "            * c0\n",
    "            * conj(s21)\n",
    "            * (conj(c0) * c21 * conj(c32) - conj(s0) * s32),\n",
    "            (mu1 - mu3) * q_plus * c21 * conj(s32) * conj(s21)\n",
    "            - (mu2 - mu3)\n",
    "            * q_plus\n",
    "            * c0\n",
    "            * conj(s21)\n",
    "            * (conj(c0) * c21 * conj(s32) + conj(s0) * c32),\n",
    "        ],\n",
    "        [\n",
    "            -(mu1 - mu3) * exp(i * zeta) * q_minus * conj(c21) * c32 * s21\n",
    "            + (mu2 - mu3)\n",
    "            * exp(i * zeta)\n",
    "            * q_minus\n",
    "            * conj(c0)\n",
    "            * s21\n",
    "            * (c0 * conj(c21) * c32 - s0 * conj(s32)),\n",
    "            (mu1 - mu3) * q_plus * conj(c21) * c32 * s21\n",
    "            - (mu2 - mu3)\n",
    "            * q_plus\n",
    "            * conj(c0)\n",
    "            * s21\n",
    "            * (c0 * conj(c21) * c32 - s0 * conj(s32)),\n",
    "            (mu1 - mu3) * Abs(c32) ** 2 * Abs(s21) ** 2\n",
    "            + (mu2 - mu3) * Abs(c0 * conj(c21) * c32 - s0 * conj(s32)) ** 2\n",
    "            + mu3,\n",
    "            (mu1 - mu3) * Abs(s21) ** 2 * c32 * conj(s32)\n",
    "            + (mu2 - mu3)\n",
    "            * (conj(c0) * c21 * conj(s32) + conj(s0) * c32)\n",
    "            * (c0 * conj(c21) * c32 - s0 * conj(s32)),\n",
    "        ],\n",
    "        [\n",
    "            -(mu1 - mu3) * exp(i * zeta) * q_minus * conj(c21) * s32 * s21\n",
    "            + (mu2 - mu3)\n",
    "            * exp(i * zeta)\n",
    "            * q_minus\n",
    "            * conj(c0)\n",
    "            * s21\n",
    "            * (c0 * conj(c21) * s32 + s0 * conj(c32)),\n",
    "            (mu1 - mu3) * q_plus * conj(c21) * s32 * s21\n",
    "            - (mu2 - mu3)\n",
    "            * q_plus\n",
    "            * conj(c0)\n",
    "            * s21\n",
    "            * (c0 * conj(c21) * s32 + s0 * conj(c32)),\n",
    "            (mu1 - mu3) * Abs(s21) ** 2 * conj(c32) * s32\n",
    "            + (mu2 - mu3)\n",
    "            * (c0 * conj(c21) * s32 + s0 * conj(c32))\n",
    "            * (conj(c0) * c21 * conj(c32) - conj(s0) * s32),\n",
    "            (mu1 - mu3) * Abs(s21) ** 2 * Abs(s32) ** 2\n",
    "            + (mu2 - mu3) * Abs(c0 * conj(c21) * s32 + s0 * conj(c32)) ** 2\n",
    "            + mu3,\n",
    "        ],\n",
    "    ]\n",
    ")"
   ]
  },
  {
   "cell_type": "code",
   "execution_count": 17,
   "id": "60f80b29-fa42-4254-a9cb-44c2b3b16d91",
   "metadata": {},
   "outputs": [],
   "source": [
    "# rho_prime = Matrix([[Abs(c)**2*Abs(c_prime)**2*rho[0,0]+c*s*c_prime*s_prime*rho[0,1]-Abs(c)^2]])\n",
    "# rho_prime"
   ]
  },
  {
   "cell_type": "code",
   "execution_count": 18,
   "id": "f0a3a241-1da7-4a5a-96d5-c9c26cce19df",
   "metadata": {},
   "outputs": [],
   "source": [
    "S = Matrix(\n",
    "    [\n",
    "        [c * c_prime, conj(s) * conj(s_prime), -c * conj(s_prime), -conj(s) * c_prime],\n",
    "        [c * s_prime, -conj(s) * conj(c_prime), c * conj(c_prime), -conj(s) * s_prime],\n",
    "        [s * c_prime, -conj(c) * conj(s_prime), -s * conj(s_prime), conj(c) * c_prime],\n",
    "        [s * s_prime, conj(c) * conj(c_prime), s * conj(c_prime), conj(c) * s_prime],\n",
    "    ]\n",
    ")"
   ]
  },
  {
   "cell_type": "code",
   "execution_count": 19,
   "id": "55f009b2-209c-45ba-b8bf-4f6b68b7dc22",
   "metadata": {},
   "outputs": [],
   "source": [
    "rho_prime = S * rho * Dagger(S)"
   ]
  },
  {
   "cell_type": "code",
   "execution_count": 20,
   "id": "2039875b-05e8-46f6-a853-1331f5e60e0e",
   "metadata": {},
   "outputs": [],
   "source": [
    "# from sympy.assumptions import global_assumptions\n",
    "# global_assumptions.add(Q.ge(r,0))\n",
    "# global_assumptions.add(Q.le(r,1))\n",
    "# global_assumptions.add(Q.ge(mu0,0))\n",
    "# global_assumptions.add(Q.le(mu0,1))\n",
    "# global_assumptions.add(Q.ge(mu1,0))\n",
    "# global_assumptions.add(Q.le(mu1,1))\n",
    "# global_assumptions.add(Q.ge(mu2,0))\n",
    "# global_assumptions.add(Q.le(mu2,1))\n",
    "# global_assumptions.add(Q.ge(mu3,0))\n",
    "# global_assumptions.add(Q.le(mu3,1))\n",
    "# global_assumptions.add(Q.le(mu0+mu1+mu2+mu3,1))\n",
    "# global_assumptions.add(Q.ge(zeta,0))\n",
    "# global_assumptions.add(Q.lt(zeta,2*pi))\n",
    "# global_assumptions.add(Q.ge(theta0,0))\n",
    "# global_assumptions.add(Q.lt(theta0,pi))\n",
    "# global_assumptions.add(Q.ge(psi0,0))\n",
    "# global_assumptions.add(Q.lt(psi0,2*pi))\n",
    "# global_assumptions.add(Q.ge(theta21,0))\n",
    "# global_assumptions.add(Q.lt(theta21,pi))\n",
    "# global_assumptions.add(Q.ge(psi21,0))\n",
    "# global_assumptions.add(Q.lt(psi21,2*pi))\n",
    "# global_assumptions.add(Q.ge(theta32,0))\n",
    "# global_assumptions.add(Q.lt(theta32,pi))\n",
    "# global_assumptions.add(Q.ge(psi32,0))\n",
    "# global_assumptions.add(Q.lt(psi32,2*pi))\n",
    "# global_assumptions.add(Q.ge(theta,0))\n",
    "# global_assumptions.add(Q.lt(theta,pi))\n",
    "# global_assumptions.add(Q.ge(psi,0))\n",
    "# global_assumptions.add(Q.lt(psi,2*pi))\n",
    "# global_assumptions.add(Q.ge(theta_prime,0))\n",
    "# global_assumptions.add(Q.lt(theta_prime,pi))\n",
    "# global_assumptions.add(Q.ge(psi_prime,0))\n",
    "# global_assumptions.add(Q.lt(psi_prime,2*pi))\n",
    "# global_assumptions.add(Q.hermitian(rho_prime))\n",
    "# global_assumptions"
   ]
  },
  {
   "cell_type": "code",
   "execution_count": 73,
   "id": "882f0790-3144-4916-9f97-93e73116eace",
   "metadata": {},
   "outputs": [],
   "source": [
    "def makeMatrix(*params):\n",
    "    # Mia Celeste stole my seat and wrote this function\n",
    "    order = [\n",
    "        mu0,\n",
    "        mu1,\n",
    "        mu2,\n",
    "        r,\n",
    "        zeta,\n",
    "        theta0,\n",
    "        psi0,\n",
    "        theta21,\n",
    "        psi21,\n",
    "        theta32,\n",
    "        psi32,\n",
    "        theta,\n",
    "        psi,\n",
    "        theta_prime,\n",
    "        psi_prime,\n",
    "    ]\n",
    "    assert len(order) == len(params)\n",
    "    return (\n",
    "        # S.subs(\n",
    "        #     [(mu3, 1 - mu0 - mu1 - mu2)]\n",
    "        #     + [(order[i], params[i]) for i in range(len(order))]\n",
    "        # ),\n",
    "        # Dagger(\n",
    "        #     S.subs(\n",
    "        #         [(mu3, 1 - mu0 - mu1 - mu2)]\n",
    "        #         + [(order[i], params[i]) for i in range(len(order))]\n",
    "        #     )\n",
    "        # ), rho.subs(\n",
    "        #     [(mu3, 1 - mu0 - mu1 - mu2)]\n",
    "        #     + [(order[i], params[i]) for i in range(len(order))]\n",
    "        # ),\n",
    "        rho_prime.subs(\n",
    "            [(mu3, 1 - mu0 - mu1 - mu2)]\n",
    "            + [(order[i], params[i]) for i in range(len(order))]\n",
    "        )\n",
    "    )"
   ]
  },
  {
   "cell_type": "code",
   "execution_count": 76,
   "id": "aea0a43b-a8e3-4f78-a4a2-030ecc222787",
   "metadata": {},
   "outputs": [
    {
     "name": "stdout",
     "output_type": "stream",
     "text": [
      "6.81 s ± 209 ms per loop (mean ± std. dev. of 7 runs, 1 loop each)\n"
     ]
    }
   ],
   "source": [
    "import timeit\n",
    "\n",
    "# s_mat, s_dag, _rho = makeMatrix(\n",
    "%timeit makeMatrix(0.5,0.25,0.2,0.25,pi,3 * pi / 2,pi / 2,pi / 2,0,pi / 2,3 * pi / 2,pi / 5,pi / 3,pi / 3,pi / 2,)\n",
    "# simplify(mat-mat**2)\n",
    "\n",
    "# mat = makeMatrix(*([0]*15))\n",
    "# N(_rho_prime)"
   ]
  },
  {
   "cell_type": "code",
   "execution_count": 59,
   "id": "ca308c0b-75e9-411d-8633-bdf57ed91843",
   "metadata": {},
   "outputs": [
    {
     "data": {
      "text/latex": [
       "$\\displaystyle \\left[\\begin{matrix}1.62387686630794 \\cdot 10^{-9} - 2.54027165938745 \\cdot 10^{-21} i & 3.43205603173247 \\cdot 10^{-9} + 3.61974200613346 \\cdot 10^{-11} i & 2.29733329928927 \\cdot 10^{-9} + 2.02503985802238 \\cdot 10^{-11} i & 1.80082736916942 \\cdot 10^{-9} - 2.90810847625167 \\cdot 10^{-11} i\\\\3.43205603173247 \\cdot 10^{-9} - 3.61974200613346 \\cdot 10^{-11} i & 2.220459149882 \\cdot 10^{-9} + 6.35264370242343 \\cdot 10^{-21} i & -3.81234455115731 \\cdot 10^{-9} + 2.4296474554486 \\cdot 10^{-11} i & -6.64949234563394 \\cdot 10^{-10} + 2.05893815885538 \\cdot 10^{-10} i\\\\2.29733329928927 \\cdot 10^{-9} - 2.02503985802238 \\cdot 10^{-11} i & -3.81234455115731 \\cdot 10^{-9} - 2.4296474554486 \\cdot 10^{-11} i & -4.60192428608508 \\cdot 10^{-9} - 1.27065281757657 \\cdot 10^{-21} i & -4.20651574250391 \\cdot 10^{-9} - 4.87381524028052 \\cdot 10^{-11} i\\\\1.80082736916942 \\cdot 10^{-9} + 2.90810847625167 \\cdot 10^{-11} i & -6.64949234563394 \\cdot 10^{-10} - 2.05893815885538 \\cdot 10^{-10} i & -4.20651574250391 \\cdot 10^{-9} + 4.87381524028052 \\cdot 10^{-11} i & 7.57588353161864 \\cdot 10^{-10} + 1.27065281757657 \\cdot 10^{-21} i\\end{matrix}\\right]$"
      ],
      "text/plain": [
       "Matrix([\n",
       "[1.62387686630794e-9 - 2.54027165938745e-21*I,   3.43205603173247e-9 + 3.61974200613346e-11*I,  2.29733329928927e-9 + 2.02503985802238e-11*I,   1.80082736916942e-9 - 2.90810847625167e-11*I],\n",
       "[3.43205603173247e-9 - 3.61974200613346e-11*I,     2.220459149882e-9 + 6.35264370242343e-21*I,  -3.81234455115731e-9 + 2.4296474554486e-11*I, -6.64949234563394e-10 + 2.05893815885538e-10*I],\n",
       "[2.29733329928927e-9 - 2.02503985802238e-11*I,   -3.81234455115731e-9 - 2.4296474554486e-11*I, -4.60192428608508e-9 - 1.27065281757657e-21*I,  -4.20651574250391e-9 - 4.87381524028052e-11*I],\n",
       "[1.80082736916942e-9 + 2.90810847625167e-11*I, -6.64949234563394e-10 - 2.05893815885538e-10*I, -4.20651574250391e-9 + 4.87381524028052e-11*I,  7.57588353161864e-10 + 1.27065281757657e-21*I]])"
      ]
     },
     "execution_count": 59,
     "metadata": {},
     "output_type": "execute_result"
    }
   ],
   "source": [
    "N(_rho_prime) - Matrix(\n",
    "    [\n",
    "        [\n",
    "            0.31527774 + 2.54109884e-21j,\n",
    "            0.01216335 - 9.18240721e-02j,\n",
    "            0.02423271 - 7.52546547e-02j,\n",
    "            0.03021712 + 2.28857079e-02j,\n",
    "        ],\n",
    "        [\n",
    "            0.01216335 + 9.18240721e-02j,\n",
    "            0.26396039 - 6.35274710e-21j,\n",
    "            0.04198577 + 4.85660284e-02j,\n",
    "            -0.05128625 + 1.08831119e-01j,\n",
    "        ],\n",
    "        [\n",
    "            0.02423271 + 7.52546547e-02j,\n",
    "            0.04198577 - 4.85660284e-02j,\n",
    "            0.27443885 + 1.27054942e-21j,\n",
    "            -0.00552253 + 9.85164780e-02j,\n",
    "        ],\n",
    "        [\n",
    "            0.03021712 - 2.28857079e-02j,\n",
    "            -0.05128625 - 1.08831119e-01j,\n",
    "            -0.00552253 - 9.85164780e-02j,\n",
    "            0.14632302 - 1.27054942e-21j,\n",
    "        ],\n",
    "    ]\n",
    ")"
   ]
  },
  {
   "cell_type": "code",
   "execution_count": 24,
   "id": "bbcd2917-baca-41a4-a75a-d58968c690b5",
   "metadata": {},
   "outputs": [],
   "source": [
    "# simp = simplify(trigsimp(simplify((rho_prime[0,0]))))\n",
    "# simp"
   ]
  }
 ],
 "metadata": {
  "kernelspec": {
   "display_name": "Python 3 (ipykernel)",
   "language": "python",
   "name": "python3"
  },
  "language_info": {
   "codemirror_mode": {
    "name": "ipython",
    "version": 3
   },
   "file_extension": ".py",
   "mimetype": "text/x-python",
   "name": "python",
   "nbconvert_exporter": "python",
   "pygments_lexer": "ipython3",
   "version": "3.8.10"
  }
 },
 "nbformat": 4,
 "nbformat_minor": 5
}
