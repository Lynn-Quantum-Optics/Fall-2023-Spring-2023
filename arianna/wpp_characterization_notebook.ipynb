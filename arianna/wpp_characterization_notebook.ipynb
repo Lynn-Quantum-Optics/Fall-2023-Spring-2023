{
 "cells": [
  {
   "cell_type": "code",
   "execution_count": 271,
   "id": "bc7758a2",
   "metadata": {},
   "outputs": [],
   "source": [
    "from qutip import *\n",
    "from math import sqrt, cos, sin\n",
    "import numpy as np\n",
    "from gen_state import make_W_list\n",
    "from rho_methods import compute_witnesses, get_rho\n",
    "import matplotlib.pyplot as plt\n",
    "from tqdm import tqdm"
   ]
  },
  {
   "cell_type": "code",
   "execution_count": 252,
   "id": "8aa7c323",
   "metadata": {},
   "outputs": [],
   "source": [
    "H = basis(2,0) # ket 1\n",
    "V = basis(2,1) # ket 2\n",
    "D = 1/sqrt(2) * (H + V)\n",
    "A = 1/sqrt(2) * (H - V)\n",
    "R = 1/sqrt(2)*(H + 1j*V)\n",
    "L = 1/sqrt(2)*(H - 1j*V)\n"
   ]
  },
  {
   "cell_type": "code",
   "execution_count": 260,
   "id": "f0136f15",
   "metadata": {},
   "outputs": [],
   "source": [
    "def pauli_state(W_mat):\n",
    "    \"\"\" Checks which pauli matrix combos make up the witness, W_mat\n",
    "\n",
    "        0 - IxI 4 - XxI 8 - YxI 12 - ZxI\n",
    "        1 - IxX 5 - XxX 9 - YxX 13 - ZxX\n",
    "        2 - IxY 6 - XxY 10 - YxY 14 - ZxY\n",
    "        3 - IxZ 7 - XxZ 11 - YxZ 15 - ZxZ\n",
    "    \"\"\"\n",
    "\n",
    "    II = np.array([[1,0,0,0],[0,1,0,0],[0,0,1,0],[0,0,0,1]]).flatten()\n",
    "    IX = np.array([[0,1,0,0],[1,0,0,0],[0,0,0,1],[0,0,1,0]]).flatten()\n",
    "    IY = np.array([[0,-1j,0,0],[1j,0,0,0],[0,0,0,-1j],[0,0,1j,0]]).flatten()\n",
    "    IZ = np.array([[1,0,0,0],[0,-1,0,0],[0,0,1,0],[0,0,0,-1]]).flatten()\n",
    "\n",
    "    XI = np.array([[0,0,1,0],[0,0,0,1],[1,0,0,0],[0,1,0,0]]).flatten()\n",
    "    XX = np.array([[0,0,0,1],[0,0,1,0],[0,1,0,0],[1,0,0,0]]).flatten()\n",
    "    XY = np.array([[0,0,0,-1j],[0,0,1j,0],[0,-1j,0,0],[1j,0,0,0]]).flatten()\n",
    "    XZ = np.array([[0,0,1,0],[0,0,0,-1],[1,0,0,0],[0,-1,0,0]]).flatten()\n",
    "\n",
    "    YI = np.array([[0,0,-1j,0],[0,0,0,-1j],[1j,0,0,0],[0,1j,0,0]]).flatten()\n",
    "    YX = np.array([[0,0,0,-1j],[0,0,1j,0],[0,1j,0,0],[1j,0,0,0]]).flatten()\n",
    "    YY = np.array([[0,0,0,-1],[0,0,1,0],[0,1,0,0],[-1,0,0,0]]).flatten()\n",
    "    YZ = np.array([[0,0,-1j,0],[0,0,0,1j],[1j,0,0,0],[0,-1j,0,0]]).flatten()\n",
    "\n",
    "    ZI = np.array([[1,0,0,0],[0,1,0,0],[0,0,-1,0],[0,0,0,-1]]).flatten()\n",
    "    ZX = np.array([[0,1,0,0],[1,0,0,0],[0,0,0,-1],[0,0,-1,0]]).flatten()\n",
    "    ZY = np.array([[0,-1j,0,0],[1j,0,0,0],[0,0,0,1j],[0,0,-1j,0]]).flatten()\n",
    "    ZZ = np.array([[1,0,0,0],[0,-1,0,0],[0,0,-1,0],[0,0,0,1]]).flatten()\n",
    "    \n",
    "    W_flat = W_mat.flatten() # for some reason this doesn't work as desired ... 4x4 matrix\n",
    "    \n",
    "    pauli_mats =  np.array([II,IX,IY,IZ,XI,XX,XY,XZ,YI,YX,YY,YZ,ZI,ZX,ZY,ZZ])\n",
    "    contains_pauli = [False]*16\n",
    "\n",
    "    for i in range(len(pauli_mats)):\n",
    "        prod = np.dot(W_flat,pauli_mats[i])\n",
    "        if prod != 0:\n",
    "            contains_pauli[i] = True\n",
    "    return contains_pauli"
   ]
  },
  {
   "cell_type": "code",
   "execution_count": 261,
   "id": "5102cb73",
   "metadata": {},
   "outputs": [],
   "source": [
    "def scan_wit(scan_params):\n",
    "    group_count = 0\n",
    "    groups = {}\n",
    "    \n",
    "    for params in scan_params:\n",
    "        alpha, beta, theta, phi, chi, eta, lam, gamma = params\n",
    "    \n",
    "        # Calculate W_state most general\n",
    "        W_state = tensor(np.cos(theta)*H + np.sin(theta)*np.exp(1j*phi)*V, np.cos(alpha)*H + np.sin(alpha)*np.exp(1j*beta)*V) + tensor(-np.exp(-1j*chi)*np.sin(eta)*H + np.cos(eta)*V, -np.exp(-1j*lam)*np.sin(gamma)*H + np.cos(gamma)*V)\n",
    "\n",
    "        # Calculate W\n",
    "        W = partial_transpose(W_state*W_state.dag(), [0,1])\n",
    "\n",
    "        # Extract Pauli matrices\n",
    "        mat = W.full()\n",
    "        \n",
    "        pauli_mats = pauli_state(mat)\n",
    "    \n",
    "        # Store Pauli matrices in groups\n",
    "        groups[group_count] = pauli_mats\n",
    "        group_count += 1\n",
    "    return groups"
   ]
  },
  {
   "cell_type": "code",
   "execution_count": 262,
   "id": "0e9d0271",
   "metadata": {},
   "outputs": [],
   "source": [
    "num_angles = 6\n",
    "\n",
    "# Create 1D arrays for each parameter\n",
    "alpha_L = np.linspace(0, np.pi, num_angles)\n",
    "beta_L = np.linspace(0, 2*np.pi, num_angles)\n",
    "theta_L = np.linspace(0, np.pi, num_angles)\n",
    "phi_L = np.linspace(0, 2*np.pi, num_angles)\n",
    "chi_L = np.linspace(0, 2*np.pi, num_angles)\n",
    "eta_L = np.linspace(0, np.pi, num_angles)\n",
    "lambda_L = np.linspace(0, 2*np.pi, num_angles)\n",
    "gamma_L = np.linspace(0, np.pi, num_angles)\n",
    "\n",
    "# Create mesh grids for each parameter\n",
    "mesh_grids = np.meshgrid(alpha_L, beta_L, theta_L, phi_L, chi_L, eta_L, lambda_L, gamma_L, indexing='ij')\n",
    "\n",
    "# Stack the mesh grids along the last axis to get a 6x6x6x6 mesh grid\n",
    "scan_list = np.stack(mesh_grids, axis=-1).reshape(-1, 8)\n"
   ]
  },
  {
   "cell_type": "code",
   "execution_count": 263,
   "id": "659fff68",
   "metadata": {},
   "outputs": [],
   "source": [
    "groups = scan_wit(scan_list)"
   ]
  },
  {
   "cell_type": "code",
   "execution_count": 264,
   "id": "09227107",
   "metadata": {},
   "outputs": [],
   "source": [
    "# now we check which states have the least measurments \n",
    "# if the measurments are already covered by a W or Wp group alone, get rid of them. Otherwise,\n",
    "# add to a new dictionary\n",
    "sorted_groups = {}\n",
    "\n",
    "for wit in range(len(scan_list)):\n",
    "    wp_meas = [groups[wit][11], groups[wit][14], groups[wit][7],groups[wit][13],groups[wit][6],groups[wit][9]]\n",
    "    # change this to match what's in notebook\n",
    "\n",
    "    \n",
    "    # here it can get tricky, because we filter based on W'\n",
    "    # option 1: make it so we elim if it is doing two W' measures and something else\n",
    "    # option 2: check if it is doing at least one and add all to the count anyways\n",
    "    if (groups[wit][11] and groups[wit][14]) or (groups[wit][7] and groups[wit][13]) \\\n",
    "        or (groups[wit][6] and groups[wit][9]):\n",
    "        num_measurements = sum([1 for meas in wp_meas if meas]) - 2\n",
    "            \n",
    "        sorted_groups[wit] = num_measurements\n",
    "\n",
    "sorted_groups = {k: v for k, v in sorted(sorted_groups.items(), key=lambda item: item[1])}\n"
   ]
  },
  {
   "cell_type": "code",
   "execution_count": 265,
   "id": "3625af25",
   "metadata": {},
   "outputs": [
    {
     "name": "stdout",
     "output_type": "stream",
     "text": [
      "151358\n"
     ]
    }
   ],
   "source": [
    "# keep only the ones that require 1 or two extra measurement\n",
    "min_sorted_groups = {k: v for k, v in sorted_groups.items() if (v <= 2 and v > 0)}\n",
    "print(len(min_sorted_groups))"
   ]
  },
  {
   "cell_type": "code",
   "execution_count": 266,
   "id": "75f9b470",
   "metadata": {},
   "outputs": [],
   "source": [
    "# Initialize ortho_min_groups\n",
    "ortho_min_groups = {wit: min_sorted_groups[wit] for wit in min_sorted_groups}\n",
    "\n",
    "# Initialize W_arrays for all witness indices\n",
    "W_arrays = {}\n",
    "\n",
    "# Calculate and store W_arrays for each witness index\n",
    "for wit in min_sorted_groups:\n",
    "    alpha, beta, theta, phi, chi, eta, lam, gamma = scan_list[wit]\n",
    "    # Calculate W_state most general\n",
    "    W_state = tensor(np.cos(theta)*H + np.sin(theta)*np.exp(1j*phi)*V, np.cos(alpha)*H + np.sin(alpha)*np.exp(1j*beta)*V) + tensor(-np.exp(-1j*chi)*np.sin(eta)*H + np.cos(eta)*V, -np.exp(-1j*lam)*np.sin(gamma)*H + np.cos(gamma)*V)\n",
    "    # Calculate W\n",
    "    W = partial_transpose(W_state*W_state.dag(), [0,1])\n",
    "    mat = W.full()\n",
    "    W_arrays[wit] = np.array(mat).flatten()\n",
    "\n",
    "# Iterate through witness indices\n",
    "for wit in min_sorted_groups:\n",
    "    W_array = W_arrays[wit]\n",
    "\n",
    "    # Check orthogonality with other witness indices\n",
    "    for curr_wit in min_sorted_groups:\n",
    "        if wit == curr_wit:\n",
    "            continue\n",
    "        \n",
    "        curr_W_array = W_arrays[curr_wit]\n",
    "        \n",
    "        # Check orthogonality using dot product\n",
    "        if np.dot(curr_W_array, W_array) == 0:\n",
    "            del ortho_min_groups[wit]\n",
    "            break"
   ]
  },
  {
   "cell_type": "code",
   "execution_count": 267,
   "id": "2c2679a4",
   "metadata": {},
   "outputs": [
    {
     "name": "stdout",
     "output_type": "stream",
     "text": [
      "11157\n"
     ]
    }
   ],
   "source": [
    "print(len(ortho_min_groups))"
   ]
  },
  {
   "cell_type": "code",
   "execution_count": 268,
   "id": "2d49249a",
   "metadata": {},
   "outputs": [],
   "source": [
    "# divide ortho_min_groups into subsets\n",
    "num_sets = 5\n",
    "set_size = len(ortho_min_groups)/ num_sets\n",
    "\n",
    "ortho_min_groups_1 = {}\n",
    "ortho_min_groups_2 = {}\n",
    "ortho_min_groups_3 = {}\n",
    "ortho_min_groups_4 = {}\n",
    "ortho_min_groups_5 = {}\n",
    "\n",
    "for index, (key, value) in enumerate(ortho_min_groups.items()):\n",
    "    if index < set_size:\n",
    "        ortho_min_groups_1[key] = value\n",
    "    elif index > set_size and index <= 2*set_size:\n",
    "        ortho_min_groups_2[key] = value\n",
    "    elif index > 2*set_size and index <= 3*set_size:\n",
    "        ortho_min_groups_3[key] = value\n",
    "    elif index > 3*set_size and index <= 4*set_size:\n",
    "        ortho_min_groups_4[key] = value\n",
    "    else:\n",
    "        ortho_min_groups_5[key] = value\n",
    "        "
   ]
  },
  {
   "cell_type": "code",
   "execution_count": null,
   "id": "c72db501",
   "metadata": {},
   "outputs": [
    {
     "name": "stderr",
     "output_type": "stream",
     "text": [
      "222it [11:51,  2.78s/it]"
     ]
    }
   ],
   "source": [
    "# Initialize num_witnessed dictionary\n",
    "num_witnessed = {k: 0 for k, v in ortho_min_groups.items()}\n",
    "\n",
    "# Define the number of intervals\n",
    "num_intervals = 5\n",
    "\n",
    "# Generate mesh grids for each parameter\n",
    "alpha_L, beta_L, theta_L, phi_L, chi_L = np.meshgrid(np.linspace(0, np.pi, num_intervals),\n",
    "                                                      np.linspace(0, 2*np.pi, num_intervals),\n",
    "                                                      np.linspace(0, np.pi, num_intervals),\n",
    "                                                      np.linspace(0, 2*np.pi, num_intervals),\n",
    "                                                      np.linspace(0, 2*np.pi, num_intervals),\n",
    "                                                      indexing='ij')\n",
    "\n",
    "# Flatten mesh grids\n",
    "alpha_vals = alpha_L.flatten()\n",
    "beta_vals = beta_L.flatten()\n",
    "theta_vals = theta_L.flatten()\n",
    "phi_vals = phi_L.flatten()\n",
    "chi_vals = chi_L.flatten()\n",
    "\n",
    "\n",
    "\n",
    "# Iterate over all combinations of parameters\n",
    "for alpha, beta, theta, phi, chi in tqdm(zip(alpha_vals, beta_vals, theta_vals, phi_vals, chi_vals)):\n",
    "    # Calculate entangled state\n",
    "    ent_state = tensor(np.cos(theta)*H + np.sin(theta)*np.exp(1j*phi)*V,\n",
    "                       np.cos(alpha)*H + np.sin(alpha)*np.exp(1j*beta)*V) + \\\n",
    "                np.exp(1j*chi) * tensor(-np.exp(-1j*phi)*np.sin(theta)*H + np.cos(theta)*V,\n",
    "                                         -np.exp(-1j*beta)*np.sin(alpha)*H + np.cos(alpha)*V)\n",
    "    rho = ket2dm(ent_state)\n",
    "\n",
    "    # Iterate over witness indices\n",
    "    for wit in ortho_min_groups_1:\n",
    "        params = scan_list[wit]\n",
    "\n",
    "        # Calculate W_state\n",
    "        W_state = tensor(np.cos(params[2])*H + np.sin(params[2])*np.exp(1j*params[3])*V,\n",
    "                         np.cos(params[0])*H + np.sin(params[0])*np.exp(1j*params[1])*V) + \\\n",
    "                  np.exp(1j*params[4]) * tensor(-np.exp(-1j*params[3])*np.sin(params[2])*H + np.cos(params[2])*V,\n",
    "                                                 -np.exp(-1j*params[1])*np.sin(params[0])*H + np.cos(params[0])*V)\n",
    "        \n",
    "        # Calculate W\n",
    "        W = partial_transpose(W_state*W_state.dag(), [0, 1])\n",
    "\n",
    "        # Calculate expectation value\n",
    "        exp_val = (W*rho).tr()\n",
    "\n",
    "\n",
    "        if np.real(exp_val) < 0:\n",
    "            num_witnessed[wit] += 1\n",
    "                    \n",
    "                    \n",
    "                \n",
    "                \n",
    "                "
   ]
  },
  {
   "cell_type": "code",
   "execution_count": 242,
   "id": "2b62d673",
   "metadata": {},
   "outputs": [
    {
     "ename": "TypeError",
     "evalue": "One of inputs is not a quantum object",
     "output_type": "error",
     "traceback": [
      "\u001b[0;31m---------------------------------------------------------------------------\u001b[0m",
      "\u001b[0;31mTypeError\u001b[0m                                 Traceback (most recent call last)",
      "Input \u001b[0;32mIn [242]\u001b[0m, in \u001b[0;36m<cell line: 21>\u001b[0;34m()\u001b[0m\n\u001b[1;32m     18\u001b[0m alpha_vals, beta_vals, theta_vals, phi_vals, chi_vals \u001b[38;5;241m=\u001b[39m [grid\u001b[38;5;241m.\u001b[39mflatten() \u001b[38;5;28;01mfor\u001b[39;00m grid \u001b[38;5;129;01min\u001b[39;00m mesh_grids]\n\u001b[1;32m     20\u001b[0m \u001b[38;5;66;03m# Calculate entangled state for each combination of parameters\u001b[39;00m\n\u001b[0;32m---> 21\u001b[0m ent_state \u001b[38;5;241m=\u001b[39m \u001b[43mtensor\u001b[49m\u001b[43m(\u001b[49m\u001b[43mnp\u001b[49m\u001b[38;5;241;43m.\u001b[39;49m\u001b[43mcos\u001b[49m\u001b[43m(\u001b[49m\u001b[43mtheta_vals\u001b[49m\u001b[43m)\u001b[49m\u001b[38;5;241;43m*\u001b[39;49m\u001b[43mH\u001b[49m\u001b[43m \u001b[49m\u001b[38;5;241;43m+\u001b[39;49m\u001b[43m \u001b[49m\u001b[43mnp\u001b[49m\u001b[38;5;241;43m.\u001b[39;49m\u001b[43msin\u001b[49m\u001b[43m(\u001b[49m\u001b[43mtheta_vals\u001b[49m\u001b[43m)\u001b[49m\u001b[38;5;241;43m*\u001b[39;49m\u001b[43mnp\u001b[49m\u001b[38;5;241;43m.\u001b[39;49m\u001b[43mexp\u001b[49m\u001b[43m(\u001b[49m\u001b[38;5;241;43m1\u001b[39;49m\u001b[43mj\u001b[49m\u001b[38;5;241;43m*\u001b[39;49m\u001b[43mphi_vals\u001b[49m\u001b[43m)\u001b[49m\u001b[38;5;241;43m*\u001b[39;49m\u001b[43mV\u001b[49m\u001b[43m,\u001b[49m\n\u001b[1;32m     22\u001b[0m \u001b[43m                   \u001b[49m\u001b[43mnp\u001b[49m\u001b[38;5;241;43m.\u001b[39;49m\u001b[43mcos\u001b[49m\u001b[43m(\u001b[49m\u001b[43malpha_vals\u001b[49m\u001b[43m)\u001b[49m\u001b[38;5;241;43m*\u001b[39;49m\u001b[43mH\u001b[49m\u001b[43m \u001b[49m\u001b[38;5;241;43m+\u001b[39;49m\u001b[43m \u001b[49m\u001b[43mnp\u001b[49m\u001b[38;5;241;43m.\u001b[39;49m\u001b[43msin\u001b[49m\u001b[43m(\u001b[49m\u001b[43malpha_vals\u001b[49m\u001b[43m)\u001b[49m\u001b[38;5;241;43m*\u001b[39;49m\u001b[43mnp\u001b[49m\u001b[38;5;241;43m.\u001b[39;49m\u001b[43mexp\u001b[49m\u001b[43m(\u001b[49m\u001b[38;5;241;43m1\u001b[39;49m\u001b[43mj\u001b[49m\u001b[38;5;241;43m*\u001b[39;49m\u001b[43mbeta_vals\u001b[49m\u001b[43m)\u001b[49m\u001b[38;5;241;43m*\u001b[39;49m\u001b[43mV\u001b[49m\u001b[43m)\u001b[49m \u001b[38;5;241m+\u001b[39m \\\n\u001b[1;32m     23\u001b[0m             np\u001b[38;5;241m.\u001b[39mexp(\u001b[38;5;241m1\u001b[39mj\u001b[38;5;241m*\u001b[39mchi_vals) \u001b[38;5;241m*\u001b[39m tensor(\u001b[38;5;241m-\u001b[39mnp\u001b[38;5;241m.\u001b[39mexp(\u001b[38;5;241m-\u001b[39m\u001b[38;5;241m1\u001b[39mj\u001b[38;5;241m*\u001b[39mphi_vals)\u001b[38;5;241m*\u001b[39mnp\u001b[38;5;241m.\u001b[39msin(theta_vals)\u001b[38;5;241m*\u001b[39mH \u001b[38;5;241m+\u001b[39m np\u001b[38;5;241m.\u001b[39mcos(theta_vals)\u001b[38;5;241m*\u001b[39mV,\n\u001b[1;32m     24\u001b[0m                                           \u001b[38;5;241m-\u001b[39mnp\u001b[38;5;241m.\u001b[39mexp(\u001b[38;5;241m-\u001b[39m\u001b[38;5;241m1\u001b[39mj\u001b[38;5;241m*\u001b[39mbeta_vals)\u001b[38;5;241m*\u001b[39mnp\u001b[38;5;241m.\u001b[39msin(alpha_vals)\u001b[38;5;241m*\u001b[39mH \u001b[38;5;241m+\u001b[39m np\u001b[38;5;241m.\u001b[39mcos(alpha_vals)\u001b[38;5;241m*\u001b[39mV)\n\u001b[1;32m     25\u001b[0m rho \u001b[38;5;241m=\u001b[39m ket2dm(ent_state)\n\u001b[1;32m     27\u001b[0m \u001b[38;5;66;03m# Iterate over witness indices\u001b[39;00m\n",
      "File \u001b[0;32m/opt/anaconda3/envs/qutip-env/lib/python3.10/site-packages/qutip/tensor.py:68\u001b[0m, in \u001b[0;36mtensor\u001b[0;34m(*args)\u001b[0m\n\u001b[1;32m     64\u001b[0m     qlist \u001b[38;5;241m=\u001b[39m args\n\u001b[1;32m     66\u001b[0m \u001b[38;5;28;01mif\u001b[39;00m \u001b[38;5;129;01mnot\u001b[39;00m \u001b[38;5;28mall\u001b[39m([\u001b[38;5;28misinstance\u001b[39m(q, Qobj) \u001b[38;5;28;01mfor\u001b[39;00m q \u001b[38;5;129;01min\u001b[39;00m qlist]):\n\u001b[1;32m     67\u001b[0m     \u001b[38;5;66;03m# raise error if one of the inputs is not a quantum object\u001b[39;00m\n\u001b[0;32m---> 68\u001b[0m     \u001b[38;5;28;01mraise\u001b[39;00m \u001b[38;5;167;01mTypeError\u001b[39;00m(\u001b[38;5;124m\"\u001b[39m\u001b[38;5;124mOne of inputs is not a quantum object\u001b[39m\u001b[38;5;124m\"\u001b[39m)\n\u001b[1;32m     70\u001b[0m out \u001b[38;5;241m=\u001b[39m Qobj()\n\u001b[1;32m     72\u001b[0m \u001b[38;5;28;01mif\u001b[39;00m qlist[\u001b[38;5;241m0\u001b[39m]\u001b[38;5;241m.\u001b[39missuper:\n",
      "\u001b[0;31mTypeError\u001b[0m: One of inputs is not a quantum object"
     ]
    }
   ],
   "source": [
    "# change to this version\n",
    "\n",
    "# Initialize num_witnessed dictionary\n",
    "num_witnessed = {k: 0 for k in ortho_min_groups}\n",
    "\n",
    "# Define the number of intervals\n",
    "num_intervals = 5\n",
    "\n",
    "# Generate mesh grids for each parameter\n",
    "mesh_grids = np.meshgrid(np.linspace(0, np.pi, num_intervals),\n",
    "                         np.linspace(0, 2*np.pi, num_intervals),\n",
    "                         np.linspace(0, np.pi, num_intervals),\n",
    "                         np.linspace(0, 2*np.pi, num_intervals),\n",
    "                         np.linspace(0, 2*np.pi, num_intervals),\n",
    "                         indexing='ij')\n",
    "\n",
    "# Flatten mesh grids\n",
    "alpha_vals, beta_vals, theta_vals, phi_vals, chi_vals = [grid.flatten() for grid in mesh_grids]\n",
    "\n",
    "# Calculate entangled state for each combination of parameters\n",
    "ent_state = tensor(np.cos(theta_vals)*H + np.sin(theta_vals)*np.exp(1j*phi_vals)*V,\n",
    "                   np.cos(alpha_vals)*H + np.sin(alpha_vals)*np.exp(1j*beta_vals)*V) + \\\n",
    "            np.exp(1j*chi_vals) * tensor(-np.exp(-1j*phi_vals)*np.sin(theta_vals)*H + np.cos(theta_vals)*V,\n",
    "                                          -np.exp(-1j*beta_vals)*np.sin(alpha_vals)*H + np.cos(alpha_vals)*V)\n",
    "rho = ket2dm(ent_state)\n",
    "\n",
    "# Iterate over witness indices\n",
    "for wit in ortho_min_groups:\n",
    "    params = scan_list[wit]\n",
    "\n",
    "    # Calculate W_state for each witness\n",
    "    W_state = tensor(np.cos(params[2])*H + np.sin(params[2])*np.exp(1j*params[3])*V,\n",
    "                     np.cos(params[0])*H + np.sin(params[0])*np.exp(1j*params[1])*V) + \\\n",
    "              np.exp(1j*params[4]) * tensor(-np.exp(-1j*params[3])*np.sin(params[2])*H + np.cos(params[2])*V,\n",
    "                                             -np.exp(-1j*params[1])*np.sin(params[0])*H + np.cos(params[0])*V)\n",
    "\n",
    "    # Calculate W\n",
    "    W = partial_transpose(W_state*W_state.dag(), [0, 1])\n",
    "\n",
    "    # Calculate expectation value\n",
    "    exp_vals = (W*rho).tr()\n",
    "\n",
    "    # Update num_witnessed if expectation value is less than 0\n",
    "    num_witnessed[wit] += np.sum(np.real(exp_vals) < 0)"
   ]
  }
 ],
 "metadata": {
  "kernelspec": {
   "display_name": "Python 3 (ipykernel)",
   "language": "python",
   "name": "python3"
  },
  "language_info": {
   "codemirror_mode": {
    "name": "ipython",
    "version": 3
   },
   "file_extension": ".py",
   "mimetype": "text/x-python",
   "name": "python",
   "nbconvert_exporter": "python",
   "pygments_lexer": "ipython3",
   "version": "3.10.4"
  }
 },
 "nbformat": 4,
 "nbformat_minor": 5
}
